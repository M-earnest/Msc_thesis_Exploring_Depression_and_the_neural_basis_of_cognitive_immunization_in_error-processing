{
 "cells": [
  {
   "cell_type": "code",
   "execution_count": 6,
   "metadata": {},
   "outputs": [],
   "source": [
    "import mne\n",
    "import pandas as pd\n",
    "import numpy as np\n",
    "import os"
   ]
  },
  {
   "cell_type": "code",
   "execution_count": 5,
   "metadata": {},
   "outputs": [
    {
     "name": "stdout",
     "output_type": "stream",
     "text": [
      "Platform:      Linux-5.11.0-37-generic-x86_64-with-debian-bullseye-sid\n",
      "Python:        3.7.6 (default, Jan  8 2020, 19:59:22)  [GCC 7.3.0]\n",
      "Executable:    /home/michael/anaconda3/bin/python\n",
      "CPU:           x86_64: 16 cores\n",
      "Memory:        15.0 GB\n",
      "\n",
      "mne:           0.23.4\n",
      "numpy:         1.18.1 {blas=mkl_rt, lapack=mkl_rt}\n",
      "scipy:         1.4.1\n",
      "matplotlib:    3.1.3 {backend=module://ipykernel.pylab.backend_inline}\n",
      "\n",
      "sklearn:       0.22.1\n",
      "numba:         0.48.0\n",
      "nibabel:       Not found\n",
      "nilearn:       Not found\n",
      "dipy:          Not found\n",
      "cupy:          Not found\n",
      "pandas:        1.0.1\n",
      "mayavi:        Not found\n",
      "pyvista:       Not found\n",
      "vtk:           Not found\n"
     ]
    }
   ],
   "source": [
    "mne.sys_info()"
   ]
  },
  {
   "cell_type": "code",
   "execution_count": 7,
   "metadata": {},
   "outputs": [],
   "source": [
    "rootdir = '/home/michael/data/derivatives/reaction_epochs'\n",
    "\n"
   ]
  },
  {
   "cell_type": "code",
   "execution_count": 15,
   "metadata": {},
   "outputs": [
    {
     "name": "stdout",
     "output_type": "stream",
     "text": [
      "/home/michael/data/derivatives/reaction_epochs/sub-007/sub-007-reaction_epochs-epo.fif\n",
      "Reading /home/michael/data/derivatives/reaction_epochs/sub-007/sub-007-reaction_epochs-epo.fif ...\n",
      "    Read a total of 1 projection items:\n",
      "        Average EEG reference (1 x 64) active\n",
      "    Found the data of interest:\n",
      "        t =   -1500.00 ...    1500.00 ms\n",
      "        0 CTF compensation matrices available\n",
      "Adding metadata with 9 columns\n",
      "Replacing existing metadata with 9 columns\n",
      "1229 matching events found\n",
      "No baseline correction applied\n",
      "Created an SSP operator (subspace dimension = 1)\n",
      "1 projection items activated\n",
      "Applying baseline correction (mode: mean)\n",
      "Converting \"condition\" to \"category\"...\n",
      "Converting \"epoch\" to \"category\"...\n",
      "Converting \"channel\" to \"category\"...\n",
      "Converting \"ch_type\" to \"category\"...\n"
     ]
    },
    {
     "ename": "NameError",
     "evalue": "name 'df' is not defined",
     "output_type": "error",
     "traceback": [
      "\u001b[0;31m---------------------------------------------------------------------------\u001b[0m",
      "\u001b[0;31mNameError\u001b[0m                                 Traceback (most recent call last)",
      "\u001b[0;32m<ipython-input-15-efb6c6c416b1>\u001b[0m in \u001b[0;36m<module>\u001b[0;34m\u001b[0m\n\u001b[1;32m     19\u001b[0m \u001b[0;34m\u001b[0m\u001b[0m\n\u001b[1;32m     20\u001b[0m             \u001b[0;31m# get time roi\u001b[0m\u001b[0;34m\u001b[0m\u001b[0;34m\u001b[0m\u001b[0;34m\u001b[0m\u001b[0m\n\u001b[0;32m---> 21\u001b[0;31m             ERN = df_correct[((df[\"time\"] >= 0) & (df[\"time\"] <= 100))\n\u001b[0m\u001b[1;32m     22\u001b[0m                        & ((df[\"channel\"] == 'Fz') |\n\u001b[1;32m     23\u001b[0m                           \u001b[0;34m(\u001b[0m\u001b[0mdf\u001b[0m\u001b[0;34m[\u001b[0m\u001b[0;34m\"channel\"\u001b[0m\u001b[0;34m]\u001b[0m \u001b[0;34m==\u001b[0m \u001b[0;34m'FCz'\u001b[0m\u001b[0;34m)\u001b[0m \u001b[0;34m|\u001b[0m\u001b[0;34m\u001b[0m\u001b[0;34m\u001b[0m\u001b[0m\n",
      "\u001b[0;31mNameError\u001b[0m: name 'df' is not defined"
     ]
    }
   ],
   "source": [
    "#rt_df = pd.DataFrame()\n",
    "\n",
    "for subdir, dirs, files in os.walk(rootdir):\n",
    "    for file in files:\n",
    "        #print(file)\n",
    "        #print os.path.join(subdir, file)\n",
    "        filepath = subdir + os.sep + file\n",
    "        if filepath.endswith(\".fif\"):\n",
    "            print (filepath)\n",
    "             # get epochs\n",
    "            cue_epochs = mne.read_epochs(filepath, preload=True)\n",
    "\n",
    "            # extract corrects\n",
    "            correct_epochs = cue_epochs['correct_incongruent', 'correct_congruent']\n",
    "            # apply baseline correction\n",
    "            correct_epochs.apply_baseline((-0.300, -0.050))\n",
    "            # epochs to pandas dataframe\n",
    "            df_correct = correct_epochs.to_data_frame(long_format=True)\n",
    "            \n",
    "            # get time roi\n",
    "            ERN = df_correct[((df[\"time\"] >= 0) & (df[\"time\"] <= 100))\n",
    "                       & ((df[\"channel\"] == 'Fz') |\n",
    "                          (df[\"channel\"] == 'FCz') |\n",
    "                          (df[\"channel\"] == 'Cz') | \n",
    "                          (df[\"channel\"] == 'CPz') |\n",
    "                          (df[\"channel\"] == 'Pz'))]\n",
    "            ERN = ERN.assign(subject=subject)\n",
    "                \n",
    "#rt_df.sort_values(by=('subject'))"
   ]
  }
 ],
 "metadata": {
  "kernelspec": {
   "display_name": "Python 3",
   "language": "python",
   "name": "python3"
  },
  "language_info": {
   "codemirror_mode": {
    "name": "ipython",
    "version": 3
   },
   "file_extension": ".py",
   "mimetype": "text/x-python",
   "name": "python",
   "nbconvert_exporter": "python",
   "pygments_lexer": "ipython3",
   "version": "3.7.6"
  }
 },
 "nbformat": 4,
 "nbformat_minor": 4
}
