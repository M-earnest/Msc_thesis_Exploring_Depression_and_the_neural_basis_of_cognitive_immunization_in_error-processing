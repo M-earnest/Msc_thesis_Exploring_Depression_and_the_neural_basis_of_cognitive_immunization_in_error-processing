{
 "cells": [
  {
   "cell_type": "code",
   "execution_count": 1,
   "metadata": {},
   "outputs": [],
   "source": [
    "# adapted from https://github.com/JoseAlanis/supplementary_social_flanker/blob/master/05_analysis.py\n",
    "\n",
    "\n",
    "import numpy as np\n",
    "import os\n",
    "import pandas as pd\n",
    "\n",
    "import matplotlib.pyplot as plt\n",
    "import matplotlib.cm as cm\n",
    "from mpl_toolkits.axes_grid1 import make_axes_locatable\n",
    "from matplotlib.colorbar import ColorbarBase\n",
    "from matplotlib.colors import Normalize\n",
    "import seaborn as sns\n",
    "from matplotlib.colors import ListedColormap\n",
    "\n",
    "from mne import read_epochs, combine_evoked, grand_average\n",
    "from mne.channels import make_1020_channel_selections\n",
    "from mne.viz import plot_compare_evokeds\n",
    "\n",
    "\n",
    "# All parameters are defined in config.py\n",
    "#from config import subjects, fname, LoggingFormat\n",
    "#from stats import within_subject_cis\n",
    "my_cmap = ListedColormap(sns.color_palette(sns.color_palette(\"colorblind\",8)).as_hex())\n"
   ]
  },
  {
   "cell_type": "markdown",
   "metadata": {},
   "source": [
    "## Plot ERPS on group basis"
   ]
  },
  {
   "cell_type": "code",
   "execution_count": 2,
   "metadata": {},
   "outputs": [
    {
     "name": "stdout",
     "output_type": "stream",
     "text": [
      "/home/michael/data/derivatives/reaction_epochs/sub-007/sub-007-reaction_epochs-epo.fif\n",
      "007\n",
      "Reading /home/michael/data/derivatives/reaction_epochs/sub-007/sub-007-reaction_epochs-epo.fif ...\n",
      "    Read a total of 1 projection items:\n",
      "        Average EEG reference (1 x 64) active\n",
      "    Found the data of interest:\n",
      "        t =   -1500.00 ...    1500.00 ms\n",
      "        0 CTF compensation matrices available\n",
      "Adding metadata with 9 columns\n",
      "Replacing existing metadata with 9 columns\n",
      "1229 matching events found\n",
      "No baseline correction applied\n",
      "Created an SSP operator (subspace dimension = 1)\n",
      "1 projection items activated\n"
     ]
    },
    {
     "data": {
      "text/plain": [
       "True"
      ]
     },
     "metadata": {},
     "output_type": "display_data"
    },
    {
     "data": {
      "text/plain": [
       "'########################'"
      ]
     },
     "metadata": {},
     "output_type": "display_data"
    },
    {
     "data": {
      "text/plain": [
       "True"
      ]
     },
     "metadata": {},
     "output_type": "display_data"
    },
    {
     "data": {
      "text/plain": [
       "'sorted to negative first'"
      ]
     },
     "metadata": {},
     "output_type": "display_data"
    },
    {
     "data": {
      "text/plain": [
       "'########################'"
      ]
     },
     "metadata": {},
     "output_type": "display_data"
    },
    {
     "name": "stdout",
     "output_type": "stream",
     "text": [
      "Applying baseline correction (mode: mean)\n",
      "Applying baseline correction (mode: mean)\n",
      "Applying baseline correction (mode: mean)\n",
      "Applying baseline correction (mode: mean)\n",
      "Applying baseline correction (mode: mean)\n",
      "Applying baseline correction (mode: mean)\n",
      "/home/michael/data/derivatives/reaction_epochs/sub-009/sub-009-reaction_epochs-epo.fif\n",
      "009\n",
      "Reading /home/michael/data/derivatives/reaction_epochs/sub-009/sub-009-reaction_epochs-epo.fif ...\n",
      "    Read a total of 1 projection items:\n",
      "        Average EEG reference (1 x 64) active\n",
      "    Found the data of interest:\n",
      "        t =   -1500.00 ...    1500.00 ms\n",
      "        0 CTF compensation matrices available\n",
      "Adding metadata with 9 columns\n",
      "Replacing existing metadata with 9 columns\n",
      "1234 matching events found\n",
      "No baseline correction applied\n",
      "Created an SSP operator (subspace dimension = 1)\n",
      "1 projection items activated\n"
     ]
    },
    {
     "data": {
      "text/plain": [
       "True"
      ]
     },
     "metadata": {},
     "output_type": "display_data"
    },
    {
     "data": {
      "text/plain": [
       "'########################'"
      ]
     },
     "metadata": {},
     "output_type": "display_data"
    },
    {
     "data": {
      "text/plain": [
       "True"
      ]
     },
     "metadata": {},
     "output_type": "display_data"
    },
    {
     "data": {
      "text/plain": [
       "'sorted to negative first'"
      ]
     },
     "metadata": {},
     "output_type": "display_data"
    },
    {
     "data": {
      "text/plain": [
       "'########################'"
      ]
     },
     "metadata": {},
     "output_type": "display_data"
    },
    {
     "name": "stdout",
     "output_type": "stream",
     "text": [
      "Applying baseline correction (mode: mean)\n",
      "Applying baseline correction (mode: mean)\n",
      "Applying baseline correction (mode: mean)\n",
      "Applying baseline correction (mode: mean)\n",
      "Applying baseline correction (mode: mean)\n",
      "Applying baseline correction (mode: mean)\n",
      "/home/michael/data/derivatives/reaction_epochs/sub-018/sub-018-reaction_epochs-epo.fif\n",
      "018\n",
      "Reading /home/michael/data/derivatives/reaction_epochs/sub-018/sub-018-reaction_epochs-epo.fif ...\n",
      "    Read a total of 1 projection items:\n",
      "        Average EEG reference (1 x 64) active\n",
      "    Found the data of interest:\n",
      "        t =   -1500.00 ...    1500.00 ms\n",
      "        0 CTF compensation matrices available\n",
      "Adding metadata with 9 columns\n",
      "Replacing existing metadata with 9 columns\n",
      "1223 matching events found\n",
      "No baseline correction applied\n",
      "Created an SSP operator (subspace dimension = 1)\n",
      "1 projection items activated\n"
     ]
    },
    {
     "data": {
      "text/plain": [
       "True"
      ]
     },
     "metadata": {},
     "output_type": "display_data"
    },
    {
     "data": {
      "text/plain": [
       "'########################'"
      ]
     },
     "metadata": {},
     "output_type": "display_data"
    },
    {
     "data": {
      "text/plain": [
       "True"
      ]
     },
     "metadata": {},
     "output_type": "display_data"
    },
    {
     "data": {
      "text/plain": [
       "'sorted to negative first'"
      ]
     },
     "metadata": {},
     "output_type": "display_data"
    },
    {
     "data": {
      "text/plain": [
       "'########################'"
      ]
     },
     "metadata": {},
     "output_type": "display_data"
    },
    {
     "name": "stdout",
     "output_type": "stream",
     "text": [
      "Applying baseline correction (mode: mean)\n",
      "Applying baseline correction (mode: mean)\n",
      "Applying baseline correction (mode: mean)\n",
      "Applying baseline correction (mode: mean)\n",
      "Applying baseline correction (mode: mean)\n",
      "Applying baseline correction (mode: mean)\n",
      "/home/michael/data/derivatives/reaction_epochs/sub-011/sub-011-reaction_epochs-epo.fif\n",
      "011\n",
      "Reading /home/michael/data/derivatives/reaction_epochs/sub-011/sub-011-reaction_epochs-epo.fif ...\n",
      "    Read a total of 1 projection items:\n",
      "        Average EEG reference (1 x 64) active\n",
      "    Found the data of interest:\n",
      "        t =   -1500.00 ...    1500.00 ms\n",
      "        0 CTF compensation matrices available\n",
      "Adding metadata with 9 columns\n",
      "Replacing existing metadata with 9 columns\n",
      "1219 matching events found\n",
      "No baseline correction applied\n",
      "Created an SSP operator (subspace dimension = 1)\n",
      "1 projection items activated\n"
     ]
    },
    {
     "data": {
      "text/plain": [
       "False"
      ]
     },
     "metadata": {},
     "output_type": "display_data"
    },
    {
     "data": {
      "text/plain": [
       "'########################'"
      ]
     },
     "metadata": {},
     "output_type": "display_data"
    },
    {
     "data": {
      "text/plain": [
       "False"
      ]
     },
     "metadata": {},
     "output_type": "display_data"
    },
    {
     "data": {
      "text/plain": [
       "'sorted to positive first'"
      ]
     },
     "metadata": {},
     "output_type": "display_data"
    },
    {
     "data": {
      "text/plain": [
       "'########################'"
      ]
     },
     "metadata": {},
     "output_type": "display_data"
    },
    {
     "name": "stdout",
     "output_type": "stream",
     "text": [
      "Applying baseline correction (mode: mean)\n",
      "Applying baseline correction (mode: mean)\n",
      "Applying baseline correction (mode: mean)\n",
      "Applying baseline correction (mode: mean)\n",
      "Applying baseline correction (mode: mean)\n",
      "Applying baseline correction (mode: mean)\n",
      "/home/michael/data/derivatives/reaction_epochs/sub-023/sub-023-reaction_epochs-epo.fif\n",
      "023\n",
      "Reading /home/michael/data/derivatives/reaction_epochs/sub-023/sub-023-reaction_epochs-epo.fif ...\n",
      "    Read a total of 1 projection items:\n",
      "        Average EEG reference (1 x 64) active\n",
      "    Found the data of interest:\n",
      "        t =   -1500.00 ...    1500.00 ms\n",
      "        0 CTF compensation matrices available\n",
      "Adding metadata with 9 columns\n",
      "Replacing existing metadata with 9 columns\n",
      "1181 matching events found\n",
      "No baseline correction applied\n",
      "Created an SSP operator (subspace dimension = 1)\n",
      "1 projection items activated\n"
     ]
    },
    {
     "data": {
      "text/plain": [
       "False"
      ]
     },
     "metadata": {},
     "output_type": "display_data"
    },
    {
     "data": {
      "text/plain": [
       "'########################'"
      ]
     },
     "metadata": {},
     "output_type": "display_data"
    },
    {
     "data": {
      "text/plain": [
       "False"
      ]
     },
     "metadata": {},
     "output_type": "display_data"
    },
    {
     "data": {
      "text/plain": [
       "'sorted to positive first'"
      ]
     },
     "metadata": {},
     "output_type": "display_data"
    },
    {
     "data": {
      "text/plain": [
       "'########################'"
      ]
     },
     "metadata": {},
     "output_type": "display_data"
    },
    {
     "name": "stdout",
     "output_type": "stream",
     "text": [
      "Applying baseline correction (mode: mean)\n",
      "Applying baseline correction (mode: mean)\n",
      "Applying baseline correction (mode: mean)\n",
      "Applying baseline correction (mode: mean)\n",
      "Applying baseline correction (mode: mean)\n",
      "Applying baseline correction (mode: mean)\n",
      "/home/michael/data/derivatives/reaction_epochs/sub-031/sub-031-reaction_epochs-epo.fif\n",
      "031\n",
      "Reading /home/michael/data/derivatives/reaction_epochs/sub-031/sub-031-reaction_epochs-epo.fif ...\n",
      "    Read a total of 1 projection items:\n",
      "        Average EEG reference (1 x 64) active\n",
      "    Found the data of interest:\n",
      "        t =   -1500.00 ...    1500.00 ms\n",
      "        0 CTF compensation matrices available\n",
      "Adding metadata with 9 columns\n",
      "Replacing existing metadata with 9 columns\n",
      "1227 matching events found\n",
      "No baseline correction applied\n",
      "Created an SSP operator (subspace dimension = 1)\n",
      "1 projection items activated\n"
     ]
    },
    {
     "data": {
      "text/plain": [
       "False"
      ]
     },
     "metadata": {},
     "output_type": "display_data"
    },
    {
     "data": {
      "text/plain": [
       "'########################'"
      ]
     },
     "metadata": {},
     "output_type": "display_data"
    },
    {
     "data": {
      "text/plain": [
       "False"
      ]
     },
     "metadata": {},
     "output_type": "display_data"
    },
    {
     "data": {
      "text/plain": [
       "'sorted to positive first'"
      ]
     },
     "metadata": {},
     "output_type": "display_data"
    },
    {
     "data": {
      "text/plain": [
       "'########################'"
      ]
     },
     "metadata": {},
     "output_type": "display_data"
    },
    {
     "name": "stdout",
     "output_type": "stream",
     "text": [
      "Applying baseline correction (mode: mean)\n",
      "Applying baseline correction (mode: mean)\n",
      "Applying baseline correction (mode: mean)\n",
      "Applying baseline correction (mode: mean)\n",
      "Applying baseline correction (mode: mean)\n",
      "Applying baseline correction (mode: mean)\n",
      "/home/michael/data/derivatives/reaction_epochs/sub-008/sub-008-reaction_epochs-epo.fif\n",
      "008\n",
      "Reading /home/michael/data/derivatives/reaction_epochs/sub-008/sub-008-reaction_epochs-epo.fif ...\n",
      "    Read a total of 1 projection items:\n",
      "        Average EEG reference (1 x 64) active\n",
      "    Found the data of interest:\n",
      "        t =   -1500.00 ...    1500.00 ms\n",
      "        0 CTF compensation matrices available\n",
      "Adding metadata with 9 columns\n",
      "Replacing existing metadata with 9 columns\n",
      "1224 matching events found\n",
      "No baseline correction applied\n",
      "Created an SSP operator (subspace dimension = 1)\n",
      "1 projection items activated\n"
     ]
    },
    {
     "data": {
      "text/plain": [
       "False"
      ]
     },
     "metadata": {},
     "output_type": "display_data"
    },
    {
     "data": {
      "text/plain": [
       "'########################'"
      ]
     },
     "metadata": {},
     "output_type": "display_data"
    },
    {
     "data": {
      "text/plain": [
       "False"
      ]
     },
     "metadata": {},
     "output_type": "display_data"
    },
    {
     "data": {
      "text/plain": [
       "'sorted to positive first'"
      ]
     },
     "metadata": {},
     "output_type": "display_data"
    },
    {
     "data": {
      "text/plain": [
       "'########################'"
      ]
     },
     "metadata": {},
     "output_type": "display_data"
    },
    {
     "name": "stdout",
     "output_type": "stream",
     "text": [
      "Applying baseline correction (mode: mean)\n",
      "Applying baseline correction (mode: mean)\n",
      "Applying baseline correction (mode: mean)\n",
      "Applying baseline correction (mode: mean)\n",
      "Applying baseline correction (mode: mean)\n",
      "Applying baseline correction (mode: mean)\n",
      "/home/michael/data/derivatives/reaction_epochs/sub-022/sub-022-reaction_epochs-epo.fif\n",
      "022\n",
      "Reading /home/michael/data/derivatives/reaction_epochs/sub-022/sub-022-reaction_epochs-epo.fif ...\n",
      "    Read a total of 1 projection items:\n",
      "        Average EEG reference (1 x 64) active\n",
      "    Found the data of interest:\n",
      "        t =   -1500.00 ...    1500.00 ms\n",
      "        0 CTF compensation matrices available\n",
      "Adding metadata with 9 columns\n",
      "Replacing existing metadata with 9 columns\n",
      "1236 matching events found\n",
      "No baseline correction applied\n",
      "Created an SSP operator (subspace dimension = 1)\n",
      "1 projection items activated\n"
     ]
    },
    {
     "data": {
      "text/plain": [
       "True"
      ]
     },
     "metadata": {},
     "output_type": "display_data"
    },
    {
     "data": {
      "text/plain": [
       "'########################'"
      ]
     },
     "metadata": {},
     "output_type": "display_data"
    },
    {
     "data": {
      "text/plain": [
       "True"
      ]
     },
     "metadata": {},
     "output_type": "display_data"
    },
    {
     "data": {
      "text/plain": [
       "'sorted to negative first'"
      ]
     },
     "metadata": {},
     "output_type": "display_data"
    },
    {
     "data": {
      "text/plain": [
       "'########################'"
      ]
     },
     "metadata": {},
     "output_type": "display_data"
    },
    {
     "name": "stdout",
     "output_type": "stream",
     "text": [
      "Applying baseline correction (mode: mean)\n",
      "Applying baseline correction (mode: mean)\n",
      "Applying baseline correction (mode: mean)\n",
      "Applying baseline correction (mode: mean)\n",
      "Applying baseline correction (mode: mean)\n",
      "Applying baseline correction (mode: mean)\n",
      "/home/michael/data/derivatives/reaction_epochs/sub-036/sub-036-reaction_epochs-epo.fif\n",
      "036\n",
      "Reading /home/michael/data/derivatives/reaction_epochs/sub-036/sub-036-reaction_epochs-epo.fif ...\n",
      "    Read a total of 1 projection items:\n",
      "        Average EEG reference (1 x 64) active\n",
      "    Found the data of interest:\n",
      "        t =   -1500.00 ...    1500.00 ms\n",
      "        0 CTF compensation matrices available\n",
      "Adding metadata with 9 columns\n",
      "Replacing existing metadata with 9 columns\n",
      "1215 matching events found\n",
      "No baseline correction applied\n",
      "Created an SSP operator (subspace dimension = 1)\n",
      "1 projection items activated\n"
     ]
    },
    {
     "data": {
      "text/plain": [
       "True"
      ]
     },
     "metadata": {},
     "output_type": "display_data"
    },
    {
     "data": {
      "text/plain": [
       "'########################'"
      ]
     },
     "metadata": {},
     "output_type": "display_data"
    },
    {
     "data": {
      "text/plain": [
       "True"
      ]
     },
     "metadata": {},
     "output_type": "display_data"
    },
    {
     "data": {
      "text/plain": [
       "'sorted to negative first'"
      ]
     },
     "metadata": {},
     "output_type": "display_data"
    },
    {
     "data": {
      "text/plain": [
       "'########################'"
      ]
     },
     "metadata": {},
     "output_type": "display_data"
    },
    {
     "name": "stdout",
     "output_type": "stream",
     "text": [
      "Applying baseline correction (mode: mean)\n",
      "Applying baseline correction (mode: mean)\n",
      "Applying baseline correction (mode: mean)\n",
      "Applying baseline correction (mode: mean)\n",
      "Applying baseline correction (mode: mean)\n",
      "Applying baseline correction (mode: mean)\n",
      "/home/michael/data/derivatives/reaction_epochs/sub-003/sub-003-reaction_epochs-epo.fif\n",
      "003\n",
      "Reading /home/michael/data/derivatives/reaction_epochs/sub-003/sub-003-reaction_epochs-epo.fif ...\n",
      "    Read a total of 1 projection items:\n",
      "        Average EEG reference (1 x 64) active\n",
      "    Found the data of interest:\n",
      "        t =   -1500.00 ...    1500.00 ms\n",
      "        0 CTF compensation matrices available\n",
      "Adding metadata with 9 columns\n",
      "Replacing existing metadata with 9 columns\n",
      "1176 matching events found\n",
      "No baseline correction applied\n",
      "Created an SSP operator (subspace dimension = 1)\n",
      "1 projection items activated\n"
     ]
    },
    {
     "data": {
      "text/plain": [
       "True"
      ]
     },
     "metadata": {},
     "output_type": "display_data"
    },
    {
     "data": {
      "text/plain": [
       "'########################'"
      ]
     },
     "metadata": {},
     "output_type": "display_data"
    },
    {
     "data": {
      "text/plain": [
       "True"
      ]
     },
     "metadata": {},
     "output_type": "display_data"
    },
    {
     "data": {
      "text/plain": [
       "'sorted to negative first'"
      ]
     },
     "metadata": {},
     "output_type": "display_data"
    },
    {
     "data": {
      "text/plain": [
       "'########################'"
      ]
     },
     "metadata": {},
     "output_type": "display_data"
    },
    {
     "name": "stdout",
     "output_type": "stream",
     "text": [
      "Applying baseline correction (mode: mean)\n",
      "Applying baseline correction (mode: mean)\n",
      "Applying baseline correction (mode: mean)\n",
      "Applying baseline correction (mode: mean)\n",
      "Applying baseline correction (mode: mean)\n",
      "Applying baseline correction (mode: mean)\n",
      "/home/michael/data/derivatives/reaction_epochs/sub-029/sub-029-reaction_epochs-epo.fif\n",
      "029\n",
      "Reading /home/michael/data/derivatives/reaction_epochs/sub-029/sub-029-reaction_epochs-epo.fif ...\n",
      "    Read a total of 1 projection items:\n",
      "        Average EEG reference (1 x 64) active\n",
      "    Found the data of interest:\n",
      "        t =   -1500.00 ...    1500.00 ms\n",
      "        0 CTF compensation matrices available\n",
      "Adding metadata with 9 columns\n",
      "Replacing existing metadata with 9 columns\n",
      "881 matching events found\n",
      "No baseline correction applied\n",
      "Created an SSP operator (subspace dimension = 1)\n",
      "1 projection items activated\n"
     ]
    },
    {
     "data": {
      "text/plain": [
       "False"
      ]
     },
     "metadata": {},
     "output_type": "display_data"
    },
    {
     "data": {
      "text/plain": [
       "'########################'"
      ]
     },
     "metadata": {},
     "output_type": "display_data"
    },
    {
     "data": {
      "text/plain": [
       "False"
      ]
     },
     "metadata": {},
     "output_type": "display_data"
    },
    {
     "data": {
      "text/plain": [
       "'sorted to positive first'"
      ]
     },
     "metadata": {},
     "output_type": "display_data"
    },
    {
     "data": {
      "text/plain": [
       "'########################'"
      ]
     },
     "metadata": {},
     "output_type": "display_data"
    },
    {
     "name": "stdout",
     "output_type": "stream",
     "text": [
      "Applying baseline correction (mode: mean)\n",
      "Applying baseline correction (mode: mean)\n",
      "Applying baseline correction (mode: mean)\n",
      "Applying baseline correction (mode: mean)\n",
      "Applying baseline correction (mode: mean)\n",
      "Applying baseline correction (mode: mean)\n",
      "/home/michael/data/derivatives/reaction_epochs/sub-004/sub-004-reaction_epochs-epo.fif\n",
      "004\n",
      "Reading /home/michael/data/derivatives/reaction_epochs/sub-004/sub-004-reaction_epochs-epo.fif ...\n",
      "    Read a total of 1 projection items:\n",
      "        Average EEG reference (1 x 64) active\n",
      "    Found the data of interest:\n",
      "        t =   -1500.00 ...    1500.00 ms\n",
      "        0 CTF compensation matrices available\n",
      "Adding metadata with 9 columns\n",
      "Replacing existing metadata with 9 columns\n",
      "1215 matching events found\n",
      "No baseline correction applied\n",
      "Created an SSP operator (subspace dimension = 1)\n",
      "1 projection items activated\n"
     ]
    },
    {
     "data": {
      "text/plain": [
       "False"
      ]
     },
     "metadata": {},
     "output_type": "display_data"
    },
    {
     "data": {
      "text/plain": [
       "'########################'"
      ]
     },
     "metadata": {},
     "output_type": "display_data"
    },
    {
     "data": {
      "text/plain": [
       "False"
      ]
     },
     "metadata": {},
     "output_type": "display_data"
    },
    {
     "data": {
      "text/plain": [
       "'sorted to positive first'"
      ]
     },
     "metadata": {},
     "output_type": "display_data"
    },
    {
     "data": {
      "text/plain": [
       "'########################'"
      ]
     },
     "metadata": {},
     "output_type": "display_data"
    },
    {
     "name": "stdout",
     "output_type": "stream",
     "text": [
      "Applying baseline correction (mode: mean)\n",
      "Applying baseline correction (mode: mean)\n",
      "Applying baseline correction (mode: mean)\n",
      "Applying baseline correction (mode: mean)\n",
      "Applying baseline correction (mode: mean)\n",
      "Applying baseline correction (mode: mean)\n",
      "/home/michael/data/derivatives/reaction_epochs/sub-005/sub-005-reaction_epochs-epo.fif\n",
      "005\n",
      "Reading /home/michael/data/derivatives/reaction_epochs/sub-005/sub-005-reaction_epochs-epo.fif ...\n",
      "    Read a total of 1 projection items:\n",
      "        Average EEG reference (1 x 64) active\n",
      "    Found the data of interest:\n",
      "        t =   -1500.00 ...    1500.00 ms\n",
      "        0 CTF compensation matrices available\n",
      "Adding metadata with 9 columns\n",
      "Replacing existing metadata with 9 columns\n",
      "1214 matching events found\n",
      "No baseline correction applied\n",
      "Created an SSP operator (subspace dimension = 1)\n",
      "1 projection items activated\n"
     ]
    },
    {
     "data": {
      "text/plain": [
       "True"
      ]
     },
     "metadata": {},
     "output_type": "display_data"
    },
    {
     "data": {
      "text/plain": [
       "'########################'"
      ]
     },
     "metadata": {},
     "output_type": "display_data"
    },
    {
     "data": {
      "text/plain": [
       "True"
      ]
     },
     "metadata": {},
     "output_type": "display_data"
    },
    {
     "data": {
      "text/plain": [
       "'sorted to negative first'"
      ]
     },
     "metadata": {},
     "output_type": "display_data"
    },
    {
     "data": {
      "text/plain": [
       "'########################'"
      ]
     },
     "metadata": {},
     "output_type": "display_data"
    },
    {
     "name": "stdout",
     "output_type": "stream",
     "text": [
      "Applying baseline correction (mode: mean)\n",
      "Applying baseline correction (mode: mean)\n",
      "Applying baseline correction (mode: mean)\n",
      "Applying baseline correction (mode: mean)\n",
      "Applying baseline correction (mode: mean)\n",
      "Applying baseline correction (mode: mean)\n",
      "/home/michael/data/derivatives/reaction_epochs/sub-015/sub-015-reaction_epochs-epo.fif\n",
      "015\n",
      "Reading /home/michael/data/derivatives/reaction_epochs/sub-015/sub-015-reaction_epochs-epo.fif ...\n",
      "    Read a total of 1 projection items:\n",
      "        Average EEG reference (1 x 64) active\n",
      "    Found the data of interest:\n",
      "        t =   -1500.00 ...    1500.00 ms\n",
      "        0 CTF compensation matrices available\n",
      "Adding metadata with 9 columns\n",
      "Replacing existing metadata with 9 columns\n",
      "1220 matching events found\n",
      "No baseline correction applied\n",
      "Created an SSP operator (subspace dimension = 1)\n",
      "1 projection items activated\n"
     ]
    },
    {
     "data": {
      "text/plain": [
       "False"
      ]
     },
     "metadata": {},
     "output_type": "display_data"
    },
    {
     "data": {
      "text/plain": [
       "'########################'"
      ]
     },
     "metadata": {},
     "output_type": "display_data"
    },
    {
     "data": {
      "text/plain": [
       "False"
      ]
     },
     "metadata": {},
     "output_type": "display_data"
    },
    {
     "data": {
      "text/plain": [
       "'sorted to positive first'"
      ]
     },
     "metadata": {},
     "output_type": "display_data"
    },
    {
     "data": {
      "text/plain": [
       "'########################'"
      ]
     },
     "metadata": {},
     "output_type": "display_data"
    },
    {
     "name": "stdout",
     "output_type": "stream",
     "text": [
      "Applying baseline correction (mode: mean)\n",
      "Applying baseline correction (mode: mean)\n",
      "Applying baseline correction (mode: mean)\n",
      "Applying baseline correction (mode: mean)\n",
      "Applying baseline correction (mode: mean)\n",
      "Applying baseline correction (mode: mean)\n",
      "/home/michael/data/derivatives/reaction_epochs/sub-002/sub-002-reaction_epochs-epo.fif\n",
      "002\n",
      "Reading /home/michael/data/derivatives/reaction_epochs/sub-002/sub-002-reaction_epochs-epo.fif ...\n",
      "    Read a total of 1 projection items:\n",
      "        Average EEG reference (1 x 64) active\n",
      "    Found the data of interest:\n",
      "        t =   -1500.00 ...    1500.00 ms\n",
      "        0 CTF compensation matrices available\n",
      "Adding metadata with 9 columns\n",
      "Replacing existing metadata with 9 columns\n",
      "1231 matching events found\n",
      "No baseline correction applied\n",
      "Created an SSP operator (subspace dimension = 1)\n",
      "1 projection items activated\n"
     ]
    },
    {
     "data": {
      "text/plain": [
       "False"
      ]
     },
     "metadata": {},
     "output_type": "display_data"
    },
    {
     "data": {
      "text/plain": [
       "'########################'"
      ]
     },
     "metadata": {},
     "output_type": "display_data"
    },
    {
     "data": {
      "text/plain": [
       "False"
      ]
     },
     "metadata": {},
     "output_type": "display_data"
    },
    {
     "data": {
      "text/plain": [
       "'sorted to positive first'"
      ]
     },
     "metadata": {},
     "output_type": "display_data"
    },
    {
     "data": {
      "text/plain": [
       "'########################'"
      ]
     },
     "metadata": {},
     "output_type": "display_data"
    },
    {
     "name": "stdout",
     "output_type": "stream",
     "text": [
      "Applying baseline correction (mode: mean)\n",
      "Applying baseline correction (mode: mean)\n",
      "Applying baseline correction (mode: mean)\n",
      "Applying baseline correction (mode: mean)\n",
      "Applying baseline correction (mode: mean)\n",
      "Applying baseline correction (mode: mean)\n",
      "/home/michael/data/derivatives/reaction_epochs/sub-037/sub-037-reaction_epochs-epo.fif\n",
      "037\n",
      "Reading /home/michael/data/derivatives/reaction_epochs/sub-037/sub-037-reaction_epochs-epo.fif ...\n",
      "    Read a total of 1 projection items:\n",
      "        Average EEG reference (1 x 64) active\n",
      "    Found the data of interest:\n",
      "        t =   -1500.00 ...    1500.00 ms\n",
      "        0 CTF compensation matrices available\n",
      "Adding metadata with 9 columns\n",
      "Replacing existing metadata with 9 columns\n",
      "1233 matching events found\n",
      "No baseline correction applied\n",
      "Created an SSP operator (subspace dimension = 1)\n",
      "1 projection items activated\n"
     ]
    },
    {
     "data": {
      "text/plain": [
       "False"
      ]
     },
     "metadata": {},
     "output_type": "display_data"
    },
    {
     "data": {
      "text/plain": [
       "'########################'"
      ]
     },
     "metadata": {},
     "output_type": "display_data"
    },
    {
     "data": {
      "text/plain": [
       "False"
      ]
     },
     "metadata": {},
     "output_type": "display_data"
    },
    {
     "data": {
      "text/plain": [
       "'sorted to positive first'"
      ]
     },
     "metadata": {},
     "output_type": "display_data"
    },
    {
     "data": {
      "text/plain": [
       "'########################'"
      ]
     },
     "metadata": {},
     "output_type": "display_data"
    },
    {
     "name": "stdout",
     "output_type": "stream",
     "text": [
      "Applying baseline correction (mode: mean)\n",
      "Applying baseline correction (mode: mean)\n",
      "Applying baseline correction (mode: mean)\n",
      "Applying baseline correction (mode: mean)\n",
      "Applying baseline correction (mode: mean)\n",
      "Applying baseline correction (mode: mean)\n",
      "/home/michael/data/derivatives/reaction_epochs/sub-012/sub-012-reaction_epochs-epo.fif\n",
      "012\n",
      "Reading /home/michael/data/derivatives/reaction_epochs/sub-012/sub-012-reaction_epochs-epo.fif ...\n",
      "    Read a total of 1 projection items:\n",
      "        Average EEG reference (1 x 64) active\n",
      "    Found the data of interest:\n",
      "        t =   -1500.00 ...    1500.00 ms\n",
      "        0 CTF compensation matrices available\n",
      "Adding metadata with 9 columns\n",
      "Replacing existing metadata with 9 columns\n",
      "1135 matching events found\n",
      "No baseline correction applied\n",
      "Created an SSP operator (subspace dimension = 1)\n",
      "1 projection items activated\n"
     ]
    },
    {
     "data": {
      "text/plain": [
       "True"
      ]
     },
     "metadata": {},
     "output_type": "display_data"
    },
    {
     "data": {
      "text/plain": [
       "'########################'"
      ]
     },
     "metadata": {},
     "output_type": "display_data"
    },
    {
     "data": {
      "text/plain": [
       "True"
      ]
     },
     "metadata": {},
     "output_type": "display_data"
    },
    {
     "data": {
      "text/plain": [
       "'sorted to negative first'"
      ]
     },
     "metadata": {},
     "output_type": "display_data"
    },
    {
     "data": {
      "text/plain": [
       "'########################'"
      ]
     },
     "metadata": {},
     "output_type": "display_data"
    },
    {
     "name": "stdout",
     "output_type": "stream",
     "text": [
      "Applying baseline correction (mode: mean)\n",
      "Applying baseline correction (mode: mean)\n",
      "Applying baseline correction (mode: mean)\n",
      "Applying baseline correction (mode: mean)\n",
      "Applying baseline correction (mode: mean)\n",
      "Applying baseline correction (mode: mean)\n",
      "/home/michael/data/derivatives/reaction_epochs/sub-010/sub-010-reaction_epochs-epo.fif\n",
      "010\n",
      "Reading /home/michael/data/derivatives/reaction_epochs/sub-010/sub-010-reaction_epochs-epo.fif ...\n",
      "    Read a total of 1 projection items:\n",
      "        Average EEG reference (1 x 64) active\n",
      "    Found the data of interest:\n",
      "        t =   -1500.00 ...    1500.00 ms\n",
      "        0 CTF compensation matrices available\n",
      "Adding metadata with 9 columns\n",
      "Replacing existing metadata with 9 columns\n",
      "1051 matching events found\n",
      "No baseline correction applied\n",
      "Created an SSP operator (subspace dimension = 1)\n",
      "1 projection items activated\n"
     ]
    },
    {
     "data": {
      "text/plain": [
       "False"
      ]
     },
     "metadata": {},
     "output_type": "display_data"
    },
    {
     "data": {
      "text/plain": [
       "'########################'"
      ]
     },
     "metadata": {},
     "output_type": "display_data"
    },
    {
     "data": {
      "text/plain": [
       "False"
      ]
     },
     "metadata": {},
     "output_type": "display_data"
    },
    {
     "data": {
      "text/plain": [
       "'sorted to positive first'"
      ]
     },
     "metadata": {},
     "output_type": "display_data"
    },
    {
     "data": {
      "text/plain": [
       "'########################'"
      ]
     },
     "metadata": {},
     "output_type": "display_data"
    },
    {
     "name": "stdout",
     "output_type": "stream",
     "text": [
      "Applying baseline correction (mode: mean)\n",
      "Applying baseline correction (mode: mean)\n",
      "Applying baseline correction (mode: mean)\n",
      "Applying baseline correction (mode: mean)\n",
      "Applying baseline correction (mode: mean)\n",
      "Applying baseline correction (mode: mean)\n",
      "/home/michael/data/derivatives/reaction_epochs/sub-006/sub-006-reaction_epochs-epo.fif\n",
      "006\n",
      "Reading /home/michael/data/derivatives/reaction_epochs/sub-006/sub-006-reaction_epochs-epo.fif ...\n",
      "    Read a total of 1 projection items:\n",
      "        Average EEG reference (1 x 64) active\n",
      "    Found the data of interest:\n",
      "        t =   -1500.00 ...    1500.00 ms\n",
      "        0 CTF compensation matrices available\n",
      "Adding metadata with 9 columns\n",
      "Replacing existing metadata with 9 columns\n",
      "1190 matching events found\n",
      "No baseline correction applied\n",
      "Created an SSP operator (subspace dimension = 1)\n",
      "1 projection items activated\n"
     ]
    },
    {
     "data": {
      "text/plain": [
       "False"
      ]
     },
     "metadata": {},
     "output_type": "display_data"
    },
    {
     "data": {
      "text/plain": [
       "'########################'"
      ]
     },
     "metadata": {},
     "output_type": "display_data"
    },
    {
     "data": {
      "text/plain": [
       "False"
      ]
     },
     "metadata": {},
     "output_type": "display_data"
    },
    {
     "data": {
      "text/plain": [
       "'sorted to positive first'"
      ]
     },
     "metadata": {},
     "output_type": "display_data"
    },
    {
     "data": {
      "text/plain": [
       "'########################'"
      ]
     },
     "metadata": {},
     "output_type": "display_data"
    },
    {
     "name": "stdout",
     "output_type": "stream",
     "text": [
      "Applying baseline correction (mode: mean)\n",
      "Applying baseline correction (mode: mean)\n",
      "Applying baseline correction (mode: mean)\n",
      "Applying baseline correction (mode: mean)\n",
      "Applying baseline correction (mode: mean)\n",
      "Applying baseline correction (mode: mean)\n",
      "/home/michael/data/derivatives/reaction_epochs/sub-020/sub-020-reaction_epochs-epo.fif\n",
      "020\n",
      "Reading /home/michael/data/derivatives/reaction_epochs/sub-020/sub-020-reaction_epochs-epo.fif ...\n",
      "    Read a total of 1 projection items:\n",
      "        Average EEG reference (1 x 64) active\n",
      "    Found the data of interest:\n",
      "        t =   -1500.00 ...    1500.00 ms\n",
      "        0 CTF compensation matrices available\n",
      "Adding metadata with 9 columns\n",
      "Replacing existing metadata with 9 columns\n",
      "1230 matching events found\n",
      "No baseline correction applied\n",
      "Created an SSP operator (subspace dimension = 1)\n",
      "1 projection items activated\n"
     ]
    },
    {
     "data": {
      "text/plain": [
       "True"
      ]
     },
     "metadata": {},
     "output_type": "display_data"
    },
    {
     "data": {
      "text/plain": [
       "'########################'"
      ]
     },
     "metadata": {},
     "output_type": "display_data"
    },
    {
     "data": {
      "text/plain": [
       "True"
      ]
     },
     "metadata": {},
     "output_type": "display_data"
    },
    {
     "data": {
      "text/plain": [
       "'sorted to negative first'"
      ]
     },
     "metadata": {},
     "output_type": "display_data"
    },
    {
     "data": {
      "text/plain": [
       "'########################'"
      ]
     },
     "metadata": {},
     "output_type": "display_data"
    },
    {
     "name": "stdout",
     "output_type": "stream",
     "text": [
      "Applying baseline correction (mode: mean)\n",
      "Applying baseline correction (mode: mean)\n",
      "Applying baseline correction (mode: mean)\n",
      "Applying baseline correction (mode: mean)\n",
      "Applying baseline correction (mode: mean)\n",
      "Applying baseline correction (mode: mean)\n",
      "/home/michael/data/derivatives/reaction_epochs/sub-032/sub-032-reaction_epochs-epo.fif\n",
      "032\n",
      "Reading /home/michael/data/derivatives/reaction_epochs/sub-032/sub-032-reaction_epochs-epo.fif ...\n",
      "    Read a total of 1 projection items:\n",
      "        Average EEG reference (1 x 64) active\n",
      "    Found the data of interest:\n",
      "        t =   -1500.00 ...    1500.00 ms\n",
      "        0 CTF compensation matrices available\n",
      "Adding metadata with 9 columns\n",
      "Replacing existing metadata with 9 columns\n",
      "909 matching events found\n",
      "No baseline correction applied\n",
      "Created an SSP operator (subspace dimension = 1)\n",
      "1 projection items activated\n"
     ]
    },
    {
     "data": {
      "text/plain": [
       "True"
      ]
     },
     "metadata": {},
     "output_type": "display_data"
    },
    {
     "data": {
      "text/plain": [
       "'########################'"
      ]
     },
     "metadata": {},
     "output_type": "display_data"
    },
    {
     "data": {
      "text/plain": [
       "True"
      ]
     },
     "metadata": {},
     "output_type": "display_data"
    },
    {
     "data": {
      "text/plain": [
       "'sorted to negative first'"
      ]
     },
     "metadata": {},
     "output_type": "display_data"
    },
    {
     "data": {
      "text/plain": [
       "'########################'"
      ]
     },
     "metadata": {},
     "output_type": "display_data"
    },
    {
     "name": "stdout",
     "output_type": "stream",
     "text": [
      "Applying baseline correction (mode: mean)\n",
      "Applying baseline correction (mode: mean)\n",
      "Applying baseline correction (mode: mean)\n",
      "Applying baseline correction (mode: mean)\n",
      "Applying baseline correction (mode: mean)\n",
      "Applying baseline correction (mode: mean)\n",
      "/home/michael/data/derivatives/reaction_epochs/sub-024/sub-024-reaction_epochs-epo.fif\n",
      "024\n",
      "Reading /home/michael/data/derivatives/reaction_epochs/sub-024/sub-024-reaction_epochs-epo.fif ...\n",
      "    Read a total of 1 projection items:\n",
      "        Average EEG reference (1 x 64) active\n",
      "    Found the data of interest:\n",
      "        t =   -1500.00 ...    1500.00 ms\n",
      "        0 CTF compensation matrices available\n",
      "Adding metadata with 9 columns\n",
      "Replacing existing metadata with 9 columns\n",
      "1229 matching events found\n",
      "No baseline correction applied\n",
      "Created an SSP operator (subspace dimension = 1)\n",
      "1 projection items activated\n"
     ]
    },
    {
     "data": {
      "text/plain": [
       "True"
      ]
     },
     "metadata": {},
     "output_type": "display_data"
    },
    {
     "data": {
      "text/plain": [
       "'########################'"
      ]
     },
     "metadata": {},
     "output_type": "display_data"
    },
    {
     "data": {
      "text/plain": [
       "True"
      ]
     },
     "metadata": {},
     "output_type": "display_data"
    },
    {
     "data": {
      "text/plain": [
       "'sorted to negative first'"
      ]
     },
     "metadata": {},
     "output_type": "display_data"
    },
    {
     "data": {
      "text/plain": [
       "'########################'"
      ]
     },
     "metadata": {},
     "output_type": "display_data"
    },
    {
     "name": "stdout",
     "output_type": "stream",
     "text": [
      "Applying baseline correction (mode: mean)\n",
      "Applying baseline correction (mode: mean)\n",
      "Applying baseline correction (mode: mean)\n",
      "Applying baseline correction (mode: mean)\n",
      "Applying baseline correction (mode: mean)\n",
      "Applying baseline correction (mode: mean)\n",
      "/home/michael/data/derivatives/reaction_epochs/sub-017/sub-017-reaction_epochs-epo.fif\n",
      "017\n",
      "Reading /home/michael/data/derivatives/reaction_epochs/sub-017/sub-017-reaction_epochs-epo.fif ...\n",
      "    Read a total of 1 projection items:\n",
      "        Average EEG reference (1 x 64) active\n",
      "    Found the data of interest:\n",
      "        t =   -1500.00 ...    1500.00 ms\n",
      "        0 CTF compensation matrices available\n",
      "Adding metadata with 9 columns\n",
      "Replacing existing metadata with 9 columns\n",
      "1210 matching events found\n",
      "No baseline correction applied\n",
      "Created an SSP operator (subspace dimension = 1)\n",
      "1 projection items activated\n"
     ]
    },
    {
     "data": {
      "text/plain": [
       "False"
      ]
     },
     "metadata": {},
     "output_type": "display_data"
    },
    {
     "data": {
      "text/plain": [
       "'########################'"
      ]
     },
     "metadata": {},
     "output_type": "display_data"
    },
    {
     "data": {
      "text/plain": [
       "False"
      ]
     },
     "metadata": {},
     "output_type": "display_data"
    },
    {
     "data": {
      "text/plain": [
       "'sorted to positive first'"
      ]
     },
     "metadata": {},
     "output_type": "display_data"
    },
    {
     "data": {
      "text/plain": [
       "'########################'"
      ]
     },
     "metadata": {},
     "output_type": "display_data"
    },
    {
     "name": "stdout",
     "output_type": "stream",
     "text": [
      "Applying baseline correction (mode: mean)\n",
      "Applying baseline correction (mode: mean)\n",
      "Applying baseline correction (mode: mean)\n",
      "Applying baseline correction (mode: mean)\n",
      "Applying baseline correction (mode: mean)\n",
      "Applying baseline correction (mode: mean)\n",
      "/home/michael/data/derivatives/reaction_epochs/sub-027/sub-027-reaction_epochs-epo.fif\n",
      "027\n",
      "Reading /home/michael/data/derivatives/reaction_epochs/sub-027/sub-027-reaction_epochs-epo.fif ...\n",
      "    Read a total of 1 projection items:\n",
      "        Average EEG reference (1 x 64) active\n",
      "    Found the data of interest:\n",
      "        t =   -1500.00 ...    1500.00 ms\n",
      "        0 CTF compensation matrices available\n",
      "Adding metadata with 9 columns\n",
      "Replacing existing metadata with 9 columns\n",
      "1114 matching events found\n",
      "No baseline correction applied\n",
      "Created an SSP operator (subspace dimension = 1)\n",
      "1 projection items activated\n"
     ]
    },
    {
     "data": {
      "text/plain": [
       "False"
      ]
     },
     "metadata": {},
     "output_type": "display_data"
    },
    {
     "data": {
      "text/plain": [
       "'########################'"
      ]
     },
     "metadata": {},
     "output_type": "display_data"
    },
    {
     "data": {
      "text/plain": [
       "False"
      ]
     },
     "metadata": {},
     "output_type": "display_data"
    },
    {
     "data": {
      "text/plain": [
       "'sorted to positive first'"
      ]
     },
     "metadata": {},
     "output_type": "display_data"
    },
    {
     "data": {
      "text/plain": [
       "'########################'"
      ]
     },
     "metadata": {},
     "output_type": "display_data"
    },
    {
     "name": "stdout",
     "output_type": "stream",
     "text": [
      "Applying baseline correction (mode: mean)\n",
      "Applying baseline correction (mode: mean)\n",
      "Applying baseline correction (mode: mean)\n",
      "Applying baseline correction (mode: mean)\n",
      "Applying baseline correction (mode: mean)\n",
      "Applying baseline correction (mode: mean)\n",
      "/home/michael/data/derivatives/reaction_epochs/sub-035/sub-035-reaction_epochs-epo.fif\n",
      "035\n",
      "Reading /home/michael/data/derivatives/reaction_epochs/sub-035/sub-035-reaction_epochs-epo.fif ...\n",
      "    Read a total of 1 projection items:\n",
      "        Average EEG reference (1 x 64) active\n",
      "    Found the data of interest:\n",
      "        t =   -1500.00 ...    1500.00 ms\n",
      "        0 CTF compensation matrices available\n",
      "Adding metadata with 9 columns\n",
      "Replacing existing metadata with 9 columns\n",
      "1232 matching events found\n",
      "No baseline correction applied\n",
      "Created an SSP operator (subspace dimension = 1)\n",
      "1 projection items activated\n"
     ]
    },
    {
     "data": {
      "text/plain": [
       "True"
      ]
     },
     "metadata": {},
     "output_type": "display_data"
    },
    {
     "data": {
      "text/plain": [
       "'########################'"
      ]
     },
     "metadata": {},
     "output_type": "display_data"
    },
    {
     "data": {
      "text/plain": [
       "True"
      ]
     },
     "metadata": {},
     "output_type": "display_data"
    },
    {
     "data": {
      "text/plain": [
       "'sorted to negative first'"
      ]
     },
     "metadata": {},
     "output_type": "display_data"
    },
    {
     "data": {
      "text/plain": [
       "'########################'"
      ]
     },
     "metadata": {},
     "output_type": "display_data"
    },
    {
     "name": "stdout",
     "output_type": "stream",
     "text": [
      "Applying baseline correction (mode: mean)\n",
      "Applying baseline correction (mode: mean)\n",
      "Applying baseline correction (mode: mean)\n",
      "Applying baseline correction (mode: mean)\n",
      "Applying baseline correction (mode: mean)\n",
      "Applying baseline correction (mode: mean)\n",
      "/home/michael/data/derivatives/reaction_epochs/sub-033/sub-033-reaction_epochs-epo.fif\n",
      "033\n",
      "Reading /home/michael/data/derivatives/reaction_epochs/sub-033/sub-033-reaction_epochs-epo.fif ...\n",
      "    Read a total of 1 projection items:\n",
      "        Average EEG reference (1 x 64) active\n",
      "    Found the data of interest:\n",
      "        t =   -1500.00 ...    1500.00 ms\n",
      "        0 CTF compensation matrices available\n",
      "Adding metadata with 9 columns\n",
      "Replacing existing metadata with 9 columns\n",
      "1110 matching events found\n",
      "No baseline correction applied\n",
      "Created an SSP operator (subspace dimension = 1)\n",
      "1 projection items activated\n"
     ]
    },
    {
     "data": {
      "text/plain": [
       "False"
      ]
     },
     "metadata": {},
     "output_type": "display_data"
    },
    {
     "data": {
      "text/plain": [
       "'########################'"
      ]
     },
     "metadata": {},
     "output_type": "display_data"
    },
    {
     "data": {
      "text/plain": [
       "False"
      ]
     },
     "metadata": {},
     "output_type": "display_data"
    },
    {
     "data": {
      "text/plain": [
       "'sorted to positive first'"
      ]
     },
     "metadata": {},
     "output_type": "display_data"
    },
    {
     "data": {
      "text/plain": [
       "'########################'"
      ]
     },
     "metadata": {},
     "output_type": "display_data"
    },
    {
     "name": "stdout",
     "output_type": "stream",
     "text": [
      "Applying baseline correction (mode: mean)\n",
      "Applying baseline correction (mode: mean)\n",
      "Applying baseline correction (mode: mean)\n",
      "Applying baseline correction (mode: mean)\n",
      "Applying baseline correction (mode: mean)\n",
      "Applying baseline correction (mode: mean)\n",
      "/home/michael/data/derivatives/reaction_epochs/sub-019/sub-019-reaction_epochs-epo.fif\n",
      "019\n",
      "Reading /home/michael/data/derivatives/reaction_epochs/sub-019/sub-019-reaction_epochs-epo.fif ...\n",
      "    Read a total of 1 projection items:\n",
      "        Average EEG reference (1 x 64) active\n",
      "    Found the data of interest:\n",
      "        t =   -1500.00 ...    1500.00 ms\n",
      "        0 CTF compensation matrices available\n",
      "Adding metadata with 9 columns\n",
      "Replacing existing metadata with 9 columns\n",
      "1207 matching events found\n",
      "No baseline correction applied\n",
      "Created an SSP operator (subspace dimension = 1)\n",
      "1 projection items activated\n"
     ]
    },
    {
     "data": {
      "text/plain": [
       "False"
      ]
     },
     "metadata": {},
     "output_type": "display_data"
    },
    {
     "data": {
      "text/plain": [
       "'########################'"
      ]
     },
     "metadata": {},
     "output_type": "display_data"
    },
    {
     "data": {
      "text/plain": [
       "False"
      ]
     },
     "metadata": {},
     "output_type": "display_data"
    },
    {
     "data": {
      "text/plain": [
       "'sorted to positive first'"
      ]
     },
     "metadata": {},
     "output_type": "display_data"
    },
    {
     "data": {
      "text/plain": [
       "'########################'"
      ]
     },
     "metadata": {},
     "output_type": "display_data"
    },
    {
     "name": "stdout",
     "output_type": "stream",
     "text": [
      "Applying baseline correction (mode: mean)\n",
      "Applying baseline correction (mode: mean)\n",
      "Applying baseline correction (mode: mean)\n",
      "Applying baseline correction (mode: mean)\n",
      "Applying baseline correction (mode: mean)\n",
      "Applying baseline correction (mode: mean)\n",
      "/home/michael/data/derivatives/reaction_epochs/sub-014/sub-014-reaction_epochs-epo.fif\n",
      "014\n",
      "Reading /home/michael/data/derivatives/reaction_epochs/sub-014/sub-014-reaction_epochs-epo.fif ...\n",
      "    Read a total of 1 projection items:\n",
      "        Average EEG reference (1 x 64) active\n",
      "    Found the data of interest:\n",
      "        t =   -1500.00 ...    1500.00 ms\n",
      "        0 CTF compensation matrices available\n",
      "Adding metadata with 9 columns\n",
      "Replacing existing metadata with 9 columns\n",
      "1122 matching events found\n",
      "No baseline correction applied\n",
      "Created an SSP operator (subspace dimension = 1)\n",
      "1 projection items activated\n"
     ]
    },
    {
     "data": {
      "text/plain": [
       "True"
      ]
     },
     "metadata": {},
     "output_type": "display_data"
    },
    {
     "data": {
      "text/plain": [
       "'########################'"
      ]
     },
     "metadata": {},
     "output_type": "display_data"
    },
    {
     "data": {
      "text/plain": [
       "True"
      ]
     },
     "metadata": {},
     "output_type": "display_data"
    },
    {
     "data": {
      "text/plain": [
       "'sorted to negative first'"
      ]
     },
     "metadata": {},
     "output_type": "display_data"
    },
    {
     "data": {
      "text/plain": [
       "'########################'"
      ]
     },
     "metadata": {},
     "output_type": "display_data"
    },
    {
     "name": "stdout",
     "output_type": "stream",
     "text": [
      "Applying baseline correction (mode: mean)\n",
      "Applying baseline correction (mode: mean)\n",
      "Applying baseline correction (mode: mean)\n",
      "Applying baseline correction (mode: mean)\n",
      "Applying baseline correction (mode: mean)\n",
      "Applying baseline correction (mode: mean)\n",
      "/home/michael/data/derivatives/reaction_epochs/sub-038/sub-038-reaction_epochs-epo.fif\n",
      "038\n",
      "Reading /home/michael/data/derivatives/reaction_epochs/sub-038/sub-038-reaction_epochs-epo.fif ...\n",
      "    Read a total of 1 projection items:\n",
      "        Average EEG reference (1 x 64) active\n",
      "    Found the data of interest:\n",
      "        t =   -1500.00 ...    1500.00 ms\n",
      "        0 CTF compensation matrices available\n",
      "Adding metadata with 9 columns\n",
      "Replacing existing metadata with 9 columns\n",
      "992 matching events found\n",
      "No baseline correction applied\n",
      "Created an SSP operator (subspace dimension = 1)\n",
      "1 projection items activated\n"
     ]
    },
    {
     "data": {
      "text/plain": [
       "False"
      ]
     },
     "metadata": {},
     "output_type": "display_data"
    },
    {
     "data": {
      "text/plain": [
       "'########################'"
      ]
     },
     "metadata": {},
     "output_type": "display_data"
    },
    {
     "data": {
      "text/plain": [
       "False"
      ]
     },
     "metadata": {},
     "output_type": "display_data"
    },
    {
     "data": {
      "text/plain": [
       "'sorted to positive first'"
      ]
     },
     "metadata": {},
     "output_type": "display_data"
    },
    {
     "data": {
      "text/plain": [
       "'########################'"
      ]
     },
     "metadata": {},
     "output_type": "display_data"
    },
    {
     "name": "stdout",
     "output_type": "stream",
     "text": [
      "Applying baseline correction (mode: mean)\n",
      "Applying baseline correction (mode: mean)\n",
      "Applying baseline correction (mode: mean)\n",
      "Applying baseline correction (mode: mean)\n",
      "Applying baseline correction (mode: mean)\n",
      "Applying baseline correction (mode: mean)\n",
      "/home/michael/data/derivatives/reaction_epochs/sub-016/sub-016-reaction_epochs-epo.fif\n",
      "016\n",
      "Reading /home/michael/data/derivatives/reaction_epochs/sub-016/sub-016-reaction_epochs-epo.fif ...\n",
      "    Read a total of 1 projection items:\n",
      "        Average EEG reference (1 x 64) active\n",
      "    Found the data of interest:\n",
      "        t =   -1500.00 ...    1500.00 ms\n",
      "        0 CTF compensation matrices available\n",
      "Adding metadata with 9 columns\n",
      "Replacing existing metadata with 9 columns\n",
      "1217 matching events found\n",
      "No baseline correction applied\n",
      "Created an SSP operator (subspace dimension = 1)\n",
      "1 projection items activated\n"
     ]
    },
    {
     "data": {
      "text/plain": [
       "True"
      ]
     },
     "metadata": {},
     "output_type": "display_data"
    },
    {
     "data": {
      "text/plain": [
       "'########################'"
      ]
     },
     "metadata": {},
     "output_type": "display_data"
    },
    {
     "data": {
      "text/plain": [
       "True"
      ]
     },
     "metadata": {},
     "output_type": "display_data"
    },
    {
     "data": {
      "text/plain": [
       "'sorted to negative first'"
      ]
     },
     "metadata": {},
     "output_type": "display_data"
    },
    {
     "data": {
      "text/plain": [
       "'########################'"
      ]
     },
     "metadata": {},
     "output_type": "display_data"
    },
    {
     "name": "stdout",
     "output_type": "stream",
     "text": [
      "Applying baseline correction (mode: mean)\n",
      "Applying baseline correction (mode: mean)\n",
      "Applying baseline correction (mode: mean)\n",
      "Applying baseline correction (mode: mean)\n",
      "Applying baseline correction (mode: mean)\n",
      "Applying baseline correction (mode: mean)\n",
      "/home/michael/data/derivatives/reaction_epochs/sub-028/sub-028-reaction_epochs-epo.fif\n",
      "028\n",
      "Reading /home/michael/data/derivatives/reaction_epochs/sub-028/sub-028-reaction_epochs-epo.fif ...\n",
      "    Read a total of 1 projection items:\n",
      "        Average EEG reference (1 x 64) active\n",
      "    Found the data of interest:\n",
      "        t =   -1500.00 ...    1500.00 ms\n",
      "        0 CTF compensation matrices available\n",
      "Adding metadata with 9 columns\n",
      "Replacing existing metadata with 9 columns\n",
      "1214 matching events found\n",
      "No baseline correction applied\n",
      "Created an SSP operator (subspace dimension = 1)\n",
      "1 projection items activated\n"
     ]
    },
    {
     "data": {
      "text/plain": [
       "True"
      ]
     },
     "metadata": {},
     "output_type": "display_data"
    },
    {
     "data": {
      "text/plain": [
       "'########################'"
      ]
     },
     "metadata": {},
     "output_type": "display_data"
    },
    {
     "data": {
      "text/plain": [
       "True"
      ]
     },
     "metadata": {},
     "output_type": "display_data"
    },
    {
     "data": {
      "text/plain": [
       "'sorted to negative first'"
      ]
     },
     "metadata": {},
     "output_type": "display_data"
    },
    {
     "data": {
      "text/plain": [
       "'########################'"
      ]
     },
     "metadata": {},
     "output_type": "display_data"
    },
    {
     "name": "stdout",
     "output_type": "stream",
     "text": [
      "Applying baseline correction (mode: mean)\n",
      "Applying baseline correction (mode: mean)\n",
      "Applying baseline correction (mode: mean)\n",
      "Applying baseline correction (mode: mean)\n",
      "Applying baseline correction (mode: mean)\n",
      "Applying baseline correction (mode: mean)\n",
      "/home/michael/data/derivatives/reaction_epochs/sub-013/sub-013-reaction_epochs-epo.fif\n",
      "013\n",
      "Reading /home/michael/data/derivatives/reaction_epochs/sub-013/sub-013-reaction_epochs-epo.fif ...\n",
      "    Read a total of 1 projection items:\n",
      "        Average EEG reference (1 x 64) active\n",
      "    Found the data of interest:\n",
      "        t =   -1500.00 ...    1500.00 ms\n",
      "        0 CTF compensation matrices available\n",
      "Adding metadata with 9 columns\n",
      "Replacing existing metadata with 9 columns\n",
      "1223 matching events found\n",
      "No baseline correction applied\n",
      "Created an SSP operator (subspace dimension = 1)\n",
      "1 projection items activated\n"
     ]
    },
    {
     "data": {
      "text/plain": [
       "False"
      ]
     },
     "metadata": {},
     "output_type": "display_data"
    },
    {
     "data": {
      "text/plain": [
       "'########################'"
      ]
     },
     "metadata": {},
     "output_type": "display_data"
    },
    {
     "data": {
      "text/plain": [
       "False"
      ]
     },
     "metadata": {},
     "output_type": "display_data"
    },
    {
     "data": {
      "text/plain": [
       "'sorted to positive first'"
      ]
     },
     "metadata": {},
     "output_type": "display_data"
    },
    {
     "data": {
      "text/plain": [
       "'########################'"
      ]
     },
     "metadata": {},
     "output_type": "display_data"
    },
    {
     "name": "stdout",
     "output_type": "stream",
     "text": [
      "Applying baseline correction (mode: mean)\n",
      "Applying baseline correction (mode: mean)\n",
      "Applying baseline correction (mode: mean)\n",
      "Applying baseline correction (mode: mean)\n",
      "Applying baseline correction (mode: mean)\n",
      "Applying baseline correction (mode: mean)\n"
     ]
    }
   ],
   "source": [
    "pos_incongruent_incorrect_base = dict()\n",
    "pos_incongruent_correct_base = dict()\n",
    "pos_incongruent_incorrect_erps_base = dict()\n",
    "pos_incongruent_correct_erps_base = dict()\n",
    "pos_incongruent_incorrect_pos = dict()\n",
    "pos_incongruent_correct_pos = dict()\n",
    "pos_incongruent_incorrect_erps_pos = dict()\n",
    "pos_incongruent_correct_erps_pos = dict()\n",
    "pos_incongruent_incorrect_neg = dict()\n",
    "pos_incongruent_correct_neg = dict()\n",
    "pos_incongruent_incorrect_erps_neg = dict()\n",
    "pos_incongruent_correct_erps_neg = dict()\n",
    "\n",
    "neg_incongruent_incorrect_base = dict()\n",
    "neg_incongruent_correct_base = dict()\n",
    "neg_incongruent_incorrect_erps_base = dict()\n",
    "neg_incongruent_correct_erps_base = dict()\n",
    "neg_incongruent_incorrect_pos = dict()\n",
    "neg_incongruent_correct_pos = dict()\n",
    "neg_incongruent_incorrect_erps_pos = dict()\n",
    "neg_incongruent_correct_erps_pos = dict()\n",
    "neg_incongruent_incorrect_neg = dict()\n",
    "neg_incongruent_correct_neg = dict()\n",
    "neg_incongruent_incorrect_erps_neg = dict()\n",
    "neg_incongruent_correct_erps_neg = dict()\n",
    "neg_negative_first_epochs = dict()\n",
    "neg_positive_first_epochs = dict()\n",
    "\n",
    "rootdir = '/home/michael/data/derivatives/reaction_epochs'\n",
    "\n",
    "counter = 0\n",
    "directory = '/home/michael/data/derivatives/results/erp_plots'\n",
    "\n",
    "if not os.path.exists(directory):\n",
    "    os.makedirs(directory)\n",
    "\n",
    "for subdir, dirs, files in os.walk(rootdir):\n",
    "    for file in files:\n",
    "        filepath = subdir + os.sep + file\n",
    "        if filepath.endswith(\".fif\"):\n",
    "            print (filepath)\n",
    "            print((filepath.split('/')[-2].split('-')[-1]))\n",
    "            subject = (filepath.split('/')[-2].split('-')[-1])[-2:]\n",
    "            target_epo = read_epochs(filepath, preload=True)\n",
    "\n",
    "            display(target_epo.metadata['negative_first'].iloc[0])\n",
    "            # split by group membership\n",
    "            if target_epo.metadata['negative_first'].iloc[0] == True:\n",
    "                display('########################')\n",
    "                display(target_epo.metadata['negative_first'].iloc[0])\n",
    "                display('sorted to negative first')\n",
    "                display('########################')\n",
    "                # and apply baseline\n",
    "                neg_incongruent_incorrect_base['subj_' + subject] = target_epo['condition == 1']['incorrect_incongruent'].apply_baseline((-0.300, -0.050))\n",
    "                neg_incongruent_correct_base['subj_' + subject] = target_epo['condition == 1']['correct_incongruent'].apply_baseline((-0.300, -0.050))\n",
    "                neg_incongruent_incorrect_pos['subj_' + subject] = target_epo['condition == 2']['incorrect_incongruent'].apply_baseline((-0.300, -0.050))\n",
    "                neg_incongruent_correct_pos['subj_' + subject] = target_epo['condition == 2']['correct_incongruent'].apply_baseline((-0.300, -0.050))\n",
    "                neg_incongruent_incorrect_neg['subj_' + subject] = target_epo['condition == 3']['incorrect_incongruent'].apply_baseline((-0.300, -0.050))\n",
    "                neg_incongruent_correct_neg['subj_' + subject] = target_epo['condition == 3']['correct_incongruent'].apply_baseline((-0.300, -0.050))\n",
    "\n",
    "                # compute ERP\n",
    "                neg_incongruent_incorrect_erps_base['subj_' + subject] = neg_incongruent_incorrect_base['subj_' + subject].average()\n",
    "                neg_incongruent_correct_erps_base['subj_' + subject] = neg_incongruent_correct_base['subj_' + subject].average()\n",
    "                neg_incongruent_incorrect_erps_pos['subj_' + subject] = neg_incongruent_incorrect_pos['subj_' + subject].average()\n",
    "                neg_incongruent_correct_erps_pos['subj_' + subject] = neg_incongruent_correct_pos['subj_' + subject].average()\n",
    "                neg_incongruent_incorrect_erps_neg['subj_' + subject] = neg_incongruent_incorrect_neg['subj_' + subject].average()\n",
    "                neg_incongruent_correct_erps_neg['subj_' + subject] = neg_incongruent_correct_neg['subj_' + subject].average()\n",
    "                #display(incongruent_incorrect_erps_neu)\n",
    "            elif target_epo.metadata['negative_first'].iloc[0] == False:\n",
    "                display('########################')\n",
    "                display(target_epo.metadata['negative_first'].iloc[0])\n",
    "                display('sorted to positive first')\n",
    "                display('########################')\n",
    "                # and apply baseline\n",
    "                pos_incongruent_incorrect_base['subj_' + subject] = target_epo['condition == 1']['incorrect_incongruent'].apply_baseline((-0.300, -0.050))\n",
    "                pos_incongruent_correct_base['subj_' + subject] = target_epo['condition == 1']['correct_incongruent'].apply_baseline((-0.300, -0.050))\n",
    "                pos_incongruent_incorrect_pos['subj_' + subject] = target_epo['condition == 2']['incorrect_incongruent'].apply_baseline((-0.300, -0.050))\n",
    "                pos_incongruent_correct_pos['subj_' + subject] = target_epo['condition == 2']['correct_incongruent'].apply_baseline((-0.300, -0.050))\n",
    "                pos_incongruent_incorrect_neg['subj_' + subject] = target_epo['condition == 3']['incorrect_incongruent'].apply_baseline((-0.300, -0.050))\n",
    "                pos_incongruent_correct_neg['subj_' + subject] = target_epo['condition == 3']['correct_incongruent'].apply_baseline((-0.300, -0.050))\n",
    "\n",
    "                # compute ERP\n",
    "                pos_incongruent_incorrect_erps_base['subj_' + subject] = pos_incongruent_incorrect_base['subj_' + subject].average()\n",
    "                pos_incongruent_correct_erps_base['subj_' + subject] = pos_incongruent_correct_base['subj_' + subject].average()\n",
    "                pos_incongruent_incorrect_erps_pos['subj_' + subject] = pos_incongruent_incorrect_pos['subj_' + subject].average()\n",
    "                pos_incongruent_correct_erps_pos['subj_' + subject] = pos_incongruent_correct_pos['subj_' + subject].average()\n",
    "                pos_incongruent_incorrect_erps_neg['subj_' + subject] = pos_incongruent_incorrect_neg['subj_' + subject].average()\n",
    "                pos_incongruent_correct_erps_neg['subj_' + subject] = pos_incongruent_correct_neg['subj_' + subject].average()\n",
    "                "
   ]
  },
  {
   "cell_type": "code",
   "execution_count": 3,
   "metadata": {},
   "outputs": [
    {
     "name": "stdout",
     "output_type": "stream",
     "text": [
      "Identifying common channels ...\n",
      "Identifying common channels ...\n",
      "Identifying common channels ...\n",
      "Identifying common channels ...\n",
      "Identifying common channels ...\n",
      "Identifying common channels ...\n",
      "Projections have already been applied. Setting proj attribute to True.\n"
     ]
    },
    {
     "data": {
      "image/png": "[encoded data removed]",
      "text/plain": [
       "<Figure size 576x302.4 with 6 Axes>"
      ]
     },
     "metadata": {
      "needs_background": "light"
     },
     "output_type": "display_data"
    },
    {
     "data": {
      "image/png": "[encoded data removed]",
      "text/plain": [
       "<Figure size 576x432 with 3 Axes>"
      ]
     },
     "metadata": {
      "needs_background": "light"
     },
     "output_type": "display_data"
    },
    {
     "data": {
      "image/png": "[encoded data removed]",
      "text/plain": [
       "<Figure size 576x432 with 3 Axes>"
      ]
     },
     "metadata": {
      "needs_background": "light"
     },
     "output_type": "display_data"
    },
    {
     "data": {
      "text/plain": [
       "[<Figure size 576x432 with 3 Axes>]"
      ]
     },
     "execution_count": 3,
     "metadata": {},
     "output_type": "execute_result"
    }
   ],
   "source": [
    "# create evokeds dict\n",
    "neg_ga_incongruent_incorrect_base = \\\n",
    "    grand_average(list(neg_incongruent_incorrect_erps_base.values()))\n",
    "neg_ga_incongruent_correct_base = \\\n",
    "    grand_average(list(neg_incongruent_correct_erps_base.values()))\n",
    "neg_ga_incongruent_incorrect_pos = \\\n",
    "    grand_average(list(neg_incongruent_incorrect_erps_pos.values()))\n",
    "neg_ga_incongruent_correct_pos = \\\n",
    "    grand_average(list(neg_incongruent_correct_erps_pos.values()))\n",
    "neg_ga_incongruent_incorrect_neg = \\\n",
    "    grand_average(list(neg_incongruent_incorrect_erps_neg.values()))\n",
    "neg_ga_incongruent_correct_neg = \\\n",
    "    grand_average(list(neg_incongruent_correct_erps_neg.values()))\n",
    "\n",
    "my_cmap = ListedColormap(sns.color_palette(sns.color_palette(\"colorblind\")).as_hex())\n",
    "\n",
    "\n",
    "# create and plot difference ERP\n",
    "joint_kwargs = \\\n",
    "    dict(times=[0.050, 0.200],\n",
    "         ts_args=dict(time_unit='s'),\n",
    "         topomap_args=dict(time_unit='s'))\n",
    "\n",
    "fig_combine_evoked = combine_evoked([neg_ga_incongruent_incorrect_base, - neg_ga_incongruent_correct_base,\n",
    "                neg_ga_incongruent_incorrect_pos, - neg_ga_incongruent_correct_pos],\n",
    "               weights='equal').plot_joint(**joint_kwargs)\n",
    "\n",
    "compare = plot_compare_evokeds(dict(neg_incorrect=neg_ga_incongruent_incorrect_neg,\n",
    "                                    neg_correct=neg_ga_incongruent_correct_neg,\n",
    "                                    pos_incorrect=neg_ga_incongruent_incorrect_pos,\n",
    "                                    pos_correct=neg_ga_incongruent_correct_pos,\n",
    "                                    baseline_incorrect=neg_ga_incongruent_incorrect_base,\n",
    "                                    baseline_correct=neg_ga_incongruent_correct_base),\n",
    "                               picks='FCz', invert_y=True, title ='Group = Negative first',\n",
    "                               ylim=dict(eeg=[-15, 5]), cmap=my_cmap)\n",
    "\n",
    "#compare.savefig(directory+ 'ern_compared_overall.png')\n",
    "#my_cmap = ListedColormap(sns.color_palette(sns.color_palette(\"colorblind\",9)).as_hex())\n",
    "my_cmap = ListedColormap(sns.color_palette(sns.color_palette(\"colorblind\",6)).as_hex())\n",
    "\n",
    "plot_compare_evokeds(dict(neg_incorrect=neg_ga_incongruent_incorrect_neg,\n",
    "                                    neg_correct=neg_ga_incongruent_correct_neg,\n",
    "                                    pos_incorrect=neg_ga_incongruent_incorrect_pos,\n",
    "                                    pos_correct=neg_ga_incongruent_correct_pos),\n",
    "                               picks='FCz', invert_y=True, title='Group = Negative first',\n",
    "                               ylim=dict(eeg=[-15, 5]), cmap=my_cmap)"
   ]
  },
  {
   "cell_type": "code",
   "execution_count": 4,
   "metadata": {},
   "outputs": [
    {
     "name": "stdout",
     "output_type": "stream",
     "text": [
      "Identifying common channels ...\n",
      "Identifying common channels ...\n",
      "Identifying common channels ...\n",
      "Identifying common channels ...\n",
      "Identifying common channels ...\n",
      "Identifying common channels ...\n",
      "Projections have already been applied. Setting proj attribute to True.\n"
     ]
    },
    {
     "data": {
      "image/png": "[encoded data removed]",
      "text/plain": [
       "<Figure size 576x302.4 with 6 Axes>"
      ]
     },
     "metadata": {
      "needs_background": "light"
     },
     "output_type": "display_data"
    },
    {
     "data": {
      "image/png": "[encoded data removed]",
      "text/plain": [
       "<Figure size 576x432 with 3 Axes>"
      ]
     },
     "metadata": {
      "needs_background": "light"
     },
     "output_type": "display_data"
    },
    {
     "data": {
      "image/png": "[encoded data removed]",
      "text/plain": [
       "<Figure size 576x432 with 3 Axes>"
      ]
     },
     "metadata": {
      "needs_background": "light"
     },
     "output_type": "display_data"
    },
    {
     "data": {
      "text/plain": [
       "[<Figure size 576x432 with 3 Axes>]"
      ]
     },
     "execution_count": 4,
     "metadata": {},
     "output_type": "execute_result"
    }
   ],
   "source": [
    "# create evokeds dict\n",
    "pos_ga_incongruent_incorrect_base = \\\n",
    "    grand_average(list(pos_incongruent_incorrect_erps_base.values()))\n",
    "pos_ga_incongruent_correct_base = \\\n",
    "    grand_average(list(pos_incongruent_correct_erps_base.values()))\n",
    "pos_ga_incongruent_incorrect_pos = \\\n",
    "    grand_average(list(pos_incongruent_incorrect_erps_pos.values()))\n",
    "pos_ga_incongruent_correct_pos = \\\n",
    "    grand_average(list(pos_incongruent_correct_erps_pos.values()))\n",
    "pos_ga_incongruent_incorrect_neg = \\\n",
    "    grand_average(list(pos_incongruent_incorrect_erps_neg.values()))\n",
    "pos_ga_incongruent_correct_neg = \\\n",
    "    grand_average(list(pos_incongruent_correct_erps_neg.values()))\n",
    "\n",
    "my_cmap = ListedColormap(sns.color_palette(sns.color_palette(\"colorblind\")).as_hex())\n",
    "\n",
    "# create and plot difference ERP\n",
    "joint_kwargs = \\\n",
    "    dict(times=[0.050, 0.200],\n",
    "         ts_args=dict(time_unit='s'),\n",
    "         topomap_args=dict(time_unit='s'))\n",
    "\n",
    "fig_combine_evoked = combine_evoked([pos_ga_incongruent_incorrect_base, - pos_ga_incongruent_correct_base,\n",
    "                pos_ga_incongruent_incorrect_pos, - pos_ga_incongruent_correct_pos],\n",
    "               weights='equal').plot_joint(**joint_kwargs)\n",
    "\n",
    "compare = plot_compare_evokeds(dict(neg_incorrect=pos_ga_incongruent_incorrect_neg,\n",
    "                                    neg_correct=pos_ga_incongruent_correct_neg,\n",
    "                                    pos_incorrect=pos_ga_incongruent_incorrect_pos,\n",
    "                                    pos_correct=pos_ga_incongruent_correct_pos,\n",
    "                                    baseline_incorrect=pos_ga_incongruent_incorrect_base,\n",
    "                                    baseline_correct=pos_ga_incongruent_correct_base),\n",
    "                               picks='FCz', invert_y=True, title ='Group = Positive first',\n",
    "                               ylim=dict(eeg=[-15, 5]), cmap=my_cmap)\n",
    "\n",
    "#compare.savefig(directory+ 'ern_compared_overall.png')\n",
    "#my_cmap = ListedColormap(sns.color_palette(sns.color_palette(\"colorblind\",9)).as_hex())\n",
    "my_cmap = ListedColormap(sns.color_palette(sns.color_palette(\"colorblind\",6)).as_hex())\n",
    "\n",
    "plot_compare_evokeds(dict(neg_incorrect=pos_ga_incongruent_incorrect_neg,\n",
    "                                    neg_correct=pos_ga_incongruent_correct_neg,\n",
    "                                    pos_incorrect=pos_ga_incongruent_incorrect_pos,\n",
    "                                    pos_correct=pos_ga_incongruent_correct_pos),\n",
    "                               picks='FCz', invert_y=True, title='Group = Positive first',\n",
    "                               ylim=dict(eeg=[-15, 5]), cmap=my_cmap)"
   ]
  },
  {
   "cell_type": "markdown",
   "metadata": {},
   "source": [
    "### print minima & maxima for neg group"
   ]
  },
  {
   "cell_type": "code",
   "execution_count": 5,
   "metadata": {
    "scrolled": false
   },
   "outputs": [
    {
     "name": "stdout",
     "output_type": "stream",
     "text": [
      "Maxima incorrect\n",
      "Baseline\n"
     ]
    },
    {
     "data": {
      "text/plain": [
       "4.029985275768855"
      ]
     },
     "metadata": {},
     "output_type": "display_data"
    },
    {
     "data": {
      "text/html": [
       "<div>\n",
       "<style scoped>\n",
       "    .dataframe tbody tr th:only-of-type {\n",
       "        vertical-align: middle;\n",
       "    }\n",
       "\n",
       "    .dataframe tbody tr th {\n",
       "        vertical-align: top;\n",
       "    }\n",
       "\n",
       "    .dataframe thead th {\n",
       "        text-align: right;\n",
       "    }\n",
       "</style>\n",
       "<table border=\"1\" class=\"dataframe\">\n",
       "  <thead>\n",
       "    <tr style=\"text-align: right;\">\n",
       "      <th></th>\n",
       "      <th>time</th>\n",
       "      <th>Fp1</th>\n",
       "      <th>AF7</th>\n",
       "      <th>AF3</th>\n",
       "      <th>F1</th>\n",
       "      <th>F3</th>\n",
       "      <th>F5</th>\n",
       "      <th>F7</th>\n",
       "      <th>FT7</th>\n",
       "      <th>FC5</th>\n",
       "      <th>...</th>\n",
       "      <th>CP4</th>\n",
       "      <th>CP2</th>\n",
       "      <th>P2</th>\n",
       "      <th>P4</th>\n",
       "      <th>P6</th>\n",
       "      <th>P8</th>\n",
       "      <th>P10</th>\n",
       "      <th>PO8</th>\n",
       "      <th>PO4</th>\n",
       "      <th>O2</th>\n",
       "    </tr>\n",
       "  </thead>\n",
       "  <tbody>\n",
       "    <tr>\n",
       "      <th>222</th>\n",
       "      <td>234</td>\n",
       "      <td>-0.588429</td>\n",
       "      <td>-3.303343</td>\n",
       "      <td>-3.208536</td>\n",
       "      <td>-0.725115</td>\n",
       "      <td>-0.987437</td>\n",
       "      <td>-3.967925</td>\n",
       "      <td>-5.746979</td>\n",
       "      <td>-4.957554</td>\n",
       "      <td>-1.03571</td>\n",
       "      <td>...</td>\n",
       "      <td>1.872647</td>\n",
       "      <td>4.860654</td>\n",
       "      <td>4.642736</td>\n",
       "      <td>1.477047</td>\n",
       "      <td>-0.673045</td>\n",
       "      <td>-2.171554</td>\n",
       "      <td>-4.922961</td>\n",
       "      <td>-2.607221</td>\n",
       "      <td>0.836418</td>\n",
       "      <td>-1.601332</td>\n",
       "    </tr>\n",
       "  </tbody>\n",
       "</table>\n",
       "<p>1 rows × 65 columns</p>\n",
       "</div>"
      ],
      "text/plain": [
       "     time       Fp1       AF7       AF3        F1        F3        F5  \\\n",
       "222   234 -0.588429 -3.303343 -3.208536 -0.725115 -0.987437 -3.967925   \n",
       "\n",
       "           F7       FT7      FC5  ...       CP4       CP2        P2        P4  \\\n",
       "222 -5.746979 -4.957554 -1.03571  ...  1.872647  4.860654  4.642736  1.477047   \n",
       "\n",
       "           P6        P8       P10       PO8       PO4        O2  \n",
       "222 -0.673045 -2.171554 -4.922961 -2.607221  0.836418 -1.601332  \n",
       "\n",
       "[1 rows x 65 columns]"
      ]
     },
     "metadata": {},
     "output_type": "display_data"
    },
    {
     "name": "stdout",
     "output_type": "stream",
     "text": [
      "negative\n"
     ]
    },
    {
     "data": {
      "text/plain": [
       "4.551048811795545"
      ]
     },
     "metadata": {},
     "output_type": "display_data"
    },
    {
     "data": {
      "text/html": [
       "<div>\n",
       "<style scoped>\n",
       "    .dataframe tbody tr th:only-of-type {\n",
       "        vertical-align: middle;\n",
       "    }\n",
       "\n",
       "    .dataframe tbody tr th {\n",
       "        vertical-align: top;\n",
       "    }\n",
       "\n",
       "    .dataframe thead th {\n",
       "        text-align: right;\n",
       "    }\n",
       "</style>\n",
       "<table border=\"1\" class=\"dataframe\">\n",
       "  <thead>\n",
       "    <tr style=\"text-align: right;\">\n",
       "      <th></th>\n",
       "      <th>time</th>\n",
       "      <th>Fp1</th>\n",
       "      <th>AF7</th>\n",
       "      <th>AF3</th>\n",
       "      <th>F1</th>\n",
       "      <th>F3</th>\n",
       "      <th>F5</th>\n",
       "      <th>F7</th>\n",
       "      <th>FT7</th>\n",
       "      <th>FC5</th>\n",
       "      <th>...</th>\n",
       "      <th>CP4</th>\n",
       "      <th>CP2</th>\n",
       "      <th>P2</th>\n",
       "      <th>P4</th>\n",
       "      <th>P6</th>\n",
       "      <th>P8</th>\n",
       "      <th>P10</th>\n",
       "      <th>PO8</th>\n",
       "      <th>PO4</th>\n",
       "      <th>O2</th>\n",
       "    </tr>\n",
       "  </thead>\n",
       "  <tbody>\n",
       "    <tr>\n",
       "      <th>215</th>\n",
       "      <td>180</td>\n",
       "      <td>-1.941522</td>\n",
       "      <td>-3.006722</td>\n",
       "      <td>-2.24236</td>\n",
       "      <td>0.318476</td>\n",
       "      <td>-1.737991</td>\n",
       "      <td>-2.5904</td>\n",
       "      <td>-2.930145</td>\n",
       "      <td>-3.363468</td>\n",
       "      <td>-1.476731</td>\n",
       "      <td>...</td>\n",
       "      <td>0.949664</td>\n",
       "      <td>4.469704</td>\n",
       "      <td>2.855337</td>\n",
       "      <td>0.037348</td>\n",
       "      <td>-0.949811</td>\n",
       "      <td>-1.663299</td>\n",
       "      <td>-4.024877</td>\n",
       "      <td>-1.59588</td>\n",
       "      <td>0.365303</td>\n",
       "      <td>-1.878881</td>\n",
       "    </tr>\n",
       "  </tbody>\n",
       "</table>\n",
       "<p>1 rows × 65 columns</p>\n",
       "</div>"
      ],
      "text/plain": [
       "     time       Fp1       AF7      AF3        F1        F3      F5        F7  \\\n",
       "215   180 -1.941522 -3.006722 -2.24236  0.318476 -1.737991 -2.5904 -2.930145   \n",
       "\n",
       "          FT7       FC5  ...       CP4       CP2        P2        P4  \\\n",
       "215 -3.363468 -1.476731  ...  0.949664  4.469704  2.855337  0.037348   \n",
       "\n",
       "           P6        P8       P10      PO8       PO4        O2  \n",
       "215 -0.949811 -1.663299 -4.024877 -1.59588  0.365303 -1.878881  \n",
       "\n",
       "[1 rows x 65 columns]"
      ]
     },
     "metadata": {},
     "output_type": "display_data"
    },
    {
     "name": "stdout",
     "output_type": "stream",
     "text": [
      "positive\n"
     ]
    },
    {
     "data": {
      "text/plain": [
       "4.445310778876759"
      ]
     },
     "metadata": {},
     "output_type": "display_data"
    },
    {
     "data": {
      "text/html": [
       "<div>\n",
       "<style scoped>\n",
       "    .dataframe tbody tr th:only-of-type {\n",
       "        vertical-align: middle;\n",
       "    }\n",
       "\n",
       "    .dataframe tbody tr th {\n",
       "        vertical-align: top;\n",
       "    }\n",
       "\n",
       "    .dataframe thead th {\n",
       "        text-align: right;\n",
       "    }\n",
       "</style>\n",
       "<table border=\"1\" class=\"dataframe\">\n",
       "  <thead>\n",
       "    <tr style=\"text-align: right;\">\n",
       "      <th></th>\n",
       "      <th>time</th>\n",
       "      <th>Fp1</th>\n",
       "      <th>AF7</th>\n",
       "      <th>AF3</th>\n",
       "      <th>F1</th>\n",
       "      <th>F3</th>\n",
       "      <th>F5</th>\n",
       "      <th>F7</th>\n",
       "      <th>FT7</th>\n",
       "      <th>FC5</th>\n",
       "      <th>...</th>\n",
       "      <th>CP4</th>\n",
       "      <th>CP2</th>\n",
       "      <th>P2</th>\n",
       "      <th>P4</th>\n",
       "      <th>P6</th>\n",
       "      <th>P8</th>\n",
       "      <th>P10</th>\n",
       "      <th>PO8</th>\n",
       "      <th>PO4</th>\n",
       "      <th>O2</th>\n",
       "    </tr>\n",
       "  </thead>\n",
       "  <tbody>\n",
       "    <tr>\n",
       "      <th>218</th>\n",
       "      <td>203</td>\n",
       "      <td>-2.769051</td>\n",
       "      <td>-2.760662</td>\n",
       "      <td>-2.093451</td>\n",
       "      <td>0.339882</td>\n",
       "      <td>-2.018287</td>\n",
       "      <td>-3.14521</td>\n",
       "      <td>-3.441254</td>\n",
       "      <td>-3.322009</td>\n",
       "      <td>-1.860076</td>\n",
       "      <td>...</td>\n",
       "      <td>0.89603</td>\n",
       "      <td>4.954014</td>\n",
       "      <td>3.918727</td>\n",
       "      <td>0.535873</td>\n",
       "      <td>-0.380542</td>\n",
       "      <td>-1.397036</td>\n",
       "      <td>-4.061462</td>\n",
       "      <td>-1.542858</td>\n",
       "      <td>0.744342</td>\n",
       "      <td>-0.236941</td>\n",
       "    </tr>\n",
       "  </tbody>\n",
       "</table>\n",
       "<p>1 rows × 65 columns</p>\n",
       "</div>"
      ],
      "text/plain": [
       "     time       Fp1       AF7       AF3        F1        F3       F5  \\\n",
       "218   203 -2.769051 -2.760662 -2.093451  0.339882 -2.018287 -3.14521   \n",
       "\n",
       "           F7       FT7       FC5  ...      CP4       CP2        P2        P4  \\\n",
       "218 -3.441254 -3.322009 -1.860076  ...  0.89603  4.954014  3.918727  0.535873   \n",
       "\n",
       "           P6        P8       P10       PO8       PO4        O2  \n",
       "218 -0.380542 -1.397036 -4.061462 -1.542858  0.744342 -0.236941  \n",
       "\n",
       "[1 rows x 65 columns]"
      ]
     },
     "metadata": {},
     "output_type": "display_data"
    },
    {
     "name": "stdout",
     "output_type": "stream",
     "text": [
      "Minima incorrect\n",
      "Baseline\n"
     ]
    },
    {
     "data": {
      "text/plain": [
       "-10.348912254157176"
      ]
     },
     "metadata": {},
     "output_type": "display_data"
    },
    {
     "data": {
      "text/html": [
       "<div>\n",
       "<style scoped>\n",
       "    .dataframe tbody tr th:only-of-type {\n",
       "        vertical-align: middle;\n",
       "    }\n",
       "\n",
       "    .dataframe tbody tr th {\n",
       "        vertical-align: top;\n",
       "    }\n",
       "\n",
       "    .dataframe thead th {\n",
       "        text-align: right;\n",
       "    }\n",
       "</style>\n",
       "<table border=\"1\" class=\"dataframe\">\n",
       "  <thead>\n",
       "    <tr style=\"text-align: right;\">\n",
       "      <th></th>\n",
       "      <th>time</th>\n",
       "      <th>Fp1</th>\n",
       "      <th>AF7</th>\n",
       "      <th>AF3</th>\n",
       "      <th>F1</th>\n",
       "      <th>F3</th>\n",
       "      <th>F5</th>\n",
       "      <th>F7</th>\n",
       "      <th>FT7</th>\n",
       "      <th>FC5</th>\n",
       "      <th>...</th>\n",
       "      <th>CP4</th>\n",
       "      <th>CP2</th>\n",
       "      <th>P2</th>\n",
       "      <th>P4</th>\n",
       "      <th>P6</th>\n",
       "      <th>P8</th>\n",
       "      <th>P10</th>\n",
       "      <th>PO8</th>\n",
       "      <th>PO4</th>\n",
       "      <th>O2</th>\n",
       "    </tr>\n",
       "  </thead>\n",
       "  <tbody>\n",
       "    <tr>\n",
       "      <th>197</th>\n",
       "      <td>39</td>\n",
       "      <td>-1.740859</td>\n",
       "      <td>-3.168039</td>\n",
       "      <td>-3.504511</td>\n",
       "      <td>-6.379117</td>\n",
       "      <td>-3.073307</td>\n",
       "      <td>-1.746013</td>\n",
       "      <td>-1.494141</td>\n",
       "      <td>0.261043</td>\n",
       "      <td>0.148703</td>\n",
       "      <td>...</td>\n",
       "      <td>3.017617</td>\n",
       "      <td>0.631652</td>\n",
       "      <td>2.581119</td>\n",
       "      <td>4.129364</td>\n",
       "      <td>4.413955</td>\n",
       "      <td>4.143744</td>\n",
       "      <td>3.166673</td>\n",
       "      <td>4.215619</td>\n",
       "      <td>3.860155</td>\n",
       "      <td>3.095629</td>\n",
       "    </tr>\n",
       "  </tbody>\n",
       "</table>\n",
       "<p>1 rows × 65 columns</p>\n",
       "</div>"
      ],
      "text/plain": [
       "     time       Fp1       AF7       AF3        F1        F3        F5  \\\n",
       "197    39 -1.740859 -3.168039 -3.504511 -6.379117 -3.073307 -1.746013   \n",
       "\n",
       "           F7       FT7       FC5  ...       CP4       CP2        P2  \\\n",
       "197 -1.494141  0.261043  0.148703  ...  3.017617  0.631652  2.581119   \n",
       "\n",
       "           P4        P6        P8       P10       PO8       PO4        O2  \n",
       "197  4.129364  4.413955  4.143744  3.166673  4.215619  3.860155  3.095629  \n",
       "\n",
       "[1 rows x 65 columns]"
      ]
     },
     "metadata": {},
     "output_type": "display_data"
    },
    {
     "name": "stdout",
     "output_type": "stream",
     "text": [
      "negative\n"
     ]
    },
    {
     "data": {
      "text/plain": [
       "-10.183382608470394"
      ]
     },
     "metadata": {},
     "output_type": "display_data"
    },
    {
     "data": {
      "text/html": [
       "<div>\n",
       "<style scoped>\n",
       "    .dataframe tbody tr th:only-of-type {\n",
       "        vertical-align: middle;\n",
       "    }\n",
       "\n",
       "    .dataframe tbody tr th {\n",
       "        vertical-align: top;\n",
       "    }\n",
       "\n",
       "    .dataframe thead th {\n",
       "        text-align: right;\n",
       "    }\n",
       "</style>\n",
       "<table border=\"1\" class=\"dataframe\">\n",
       "  <thead>\n",
       "    <tr style=\"text-align: right;\">\n",
       "      <th></th>\n",
       "      <th>time</th>\n",
       "      <th>Fp1</th>\n",
       "      <th>AF7</th>\n",
       "      <th>AF3</th>\n",
       "      <th>F1</th>\n",
       "      <th>F3</th>\n",
       "      <th>F5</th>\n",
       "      <th>F7</th>\n",
       "      <th>FT7</th>\n",
       "      <th>FC5</th>\n",
       "      <th>...</th>\n",
       "      <th>CP4</th>\n",
       "      <th>CP2</th>\n",
       "      <th>P2</th>\n",
       "      <th>P4</th>\n",
       "      <th>P6</th>\n",
       "      <th>P8</th>\n",
       "      <th>P10</th>\n",
       "      <th>PO8</th>\n",
       "      <th>PO4</th>\n",
       "      <th>O2</th>\n",
       "    </tr>\n",
       "  </thead>\n",
       "  <tbody>\n",
       "    <tr>\n",
       "      <th>197</th>\n",
       "      <td>39</td>\n",
       "      <td>-4.214542</td>\n",
       "      <td>-3.285218</td>\n",
       "      <td>-3.610258</td>\n",
       "      <td>-6.633685</td>\n",
       "      <td>-3.15503</td>\n",
       "      <td>-1.51358</td>\n",
       "      <td>-1.077518</td>\n",
       "      <td>-0.495263</td>\n",
       "      <td>-1.260689</td>\n",
       "      <td>...</td>\n",
       "      <td>3.426068</td>\n",
       "      <td>1.235155</td>\n",
       "      <td>3.488437</td>\n",
       "      <td>4.31038</td>\n",
       "      <td>4.694491</td>\n",
       "      <td>4.578519</td>\n",
       "      <td>2.785747</td>\n",
       "      <td>4.435159</td>\n",
       "      <td>4.682729</td>\n",
       "      <td>3.341537</td>\n",
       "    </tr>\n",
       "  </tbody>\n",
       "</table>\n",
       "<p>1 rows × 65 columns</p>\n",
       "</div>"
      ],
      "text/plain": [
       "     time       Fp1       AF7       AF3        F1       F3       F5        F7  \\\n",
       "197    39 -4.214542 -3.285218 -3.610258 -6.633685 -3.15503 -1.51358 -1.077518   \n",
       "\n",
       "          FT7       FC5  ...       CP4       CP2        P2       P4        P6  \\\n",
       "197 -0.495263 -1.260689  ...  3.426068  1.235155  3.488437  4.31038  4.694491   \n",
       "\n",
       "           P8       P10       PO8       PO4        O2  \n",
       "197  4.578519  2.785747  4.435159  4.682729  3.341537  \n",
       "\n",
       "[1 rows x 65 columns]"
      ]
     },
     "metadata": {},
     "output_type": "display_data"
    },
    {
     "name": "stdout",
     "output_type": "stream",
     "text": [
      "positive\n"
     ]
    },
    {
     "data": {
      "text/plain": [
       "-7.617822531895503"
      ]
     },
     "metadata": {},
     "output_type": "display_data"
    },
    {
     "data": {
      "text/html": [
       "<div>\n",
       "<style scoped>\n",
       "    .dataframe tbody tr th:only-of-type {\n",
       "        vertical-align: middle;\n",
       "    }\n",
       "\n",
       "    .dataframe tbody tr th {\n",
       "        vertical-align: top;\n",
       "    }\n",
       "\n",
       "    .dataframe thead th {\n",
       "        text-align: right;\n",
       "    }\n",
       "</style>\n",
       "<table border=\"1\" class=\"dataframe\">\n",
       "  <thead>\n",
       "    <tr style=\"text-align: right;\">\n",
       "      <th></th>\n",
       "      <th>time</th>\n",
       "      <th>Fp1</th>\n",
       "      <th>AF7</th>\n",
       "      <th>AF3</th>\n",
       "      <th>F1</th>\n",
       "      <th>F3</th>\n",
       "      <th>F5</th>\n",
       "      <th>F7</th>\n",
       "      <th>FT7</th>\n",
       "      <th>FC5</th>\n",
       "      <th>...</th>\n",
       "      <th>CP4</th>\n",
       "      <th>CP2</th>\n",
       "      <th>P2</th>\n",
       "      <th>P4</th>\n",
       "      <th>P6</th>\n",
       "      <th>P8</th>\n",
       "      <th>P10</th>\n",
       "      <th>PO8</th>\n",
       "      <th>PO4</th>\n",
       "      <th>O2</th>\n",
       "    </tr>\n",
       "  </thead>\n",
       "  <tbody>\n",
       "    <tr>\n",
       "      <th>197</th>\n",
       "      <td>39</td>\n",
       "      <td>-4.365643</td>\n",
       "      <td>-3.378388</td>\n",
       "      <td>-3.548076</td>\n",
       "      <td>-5.39537</td>\n",
       "      <td>-3.518642</td>\n",
       "      <td>-2.421669</td>\n",
       "      <td>-2.126663</td>\n",
       "      <td>-1.046959</td>\n",
       "      <td>-1.483456</td>\n",
       "      <td>...</td>\n",
       "      <td>2.799848</td>\n",
       "      <td>1.948757</td>\n",
       "      <td>3.412325</td>\n",
       "      <td>3.840883</td>\n",
       "      <td>4.207235</td>\n",
       "      <td>3.645354</td>\n",
       "      <td>1.5491</td>\n",
       "      <td>3.769538</td>\n",
       "      <td>3.912695</td>\n",
       "      <td>2.787882</td>\n",
       "    </tr>\n",
       "  </tbody>\n",
       "</table>\n",
       "<p>1 rows × 65 columns</p>\n",
       "</div>"
      ],
      "text/plain": [
       "     time       Fp1       AF7       AF3       F1        F3        F5  \\\n",
       "197    39 -4.365643 -3.378388 -3.548076 -5.39537 -3.518642 -2.421669   \n",
       "\n",
       "           F7       FT7       FC5  ...       CP4       CP2        P2  \\\n",
       "197 -2.126663 -1.046959 -1.483456  ...  2.799848  1.948757  3.412325   \n",
       "\n",
       "           P4        P6        P8     P10       PO8       PO4        O2  \n",
       "197  3.840883  4.207235  3.645354  1.5491  3.769538  3.912695  2.787882  \n",
       "\n",
       "[1 rows x 65 columns]"
      ]
     },
     "metadata": {},
     "output_type": "display_data"
    },
    {
     "name": "stdout",
     "output_type": "stream",
     "text": [
      "means & std incorrect\n",
      "base\n"
     ]
    },
    {
     "data": {
      "text/plain": [
       "-1.7596655724328867"
      ]
     },
     "metadata": {},
     "output_type": "display_data"
    },
    {
     "data": {
      "text/plain": [
       "2.494051548476212"
      ]
     },
     "metadata": {},
     "output_type": "display_data"
    },
    {
     "name": "stdout",
     "output_type": "stream",
     "text": [
      "neg\n"
     ]
    },
    {
     "data": {
      "text/plain": [
       "-1.2830594114907239"
      ]
     },
     "metadata": {},
     "output_type": "display_data"
    },
    {
     "data": {
      "text/plain": [
       "2.2367361509492087"
      ]
     },
     "metadata": {},
     "output_type": "display_data"
    },
    {
     "name": "stdout",
     "output_type": "stream",
     "text": [
      "pos\n"
     ]
    },
    {
     "data": {
      "text/plain": [
       "-1.1308092480564813"
      ]
     },
     "metadata": {},
     "output_type": "display_data"
    },
    {
     "data": {
      "text/plain": [
       "2.1601800951682346"
      ]
     },
     "metadata": {},
     "output_type": "display_data"
    },
    {
     "name": "stdout",
     "output_type": "stream",
     "text": [
      "Maxima correct\n",
      "Baseline\n"
     ]
    },
    {
     "data": {
      "text/plain": [
       "3.4376756386121237"
      ]
     },
     "metadata": {},
     "output_type": "display_data"
    },
    {
     "data": {
      "text/html": [
       "<div>\n",
       "<style scoped>\n",
       "    .dataframe tbody tr th:only-of-type {\n",
       "        vertical-align: middle;\n",
       "    }\n",
       "\n",
       "    .dataframe tbody tr th {\n",
       "        vertical-align: top;\n",
       "    }\n",
       "\n",
       "    .dataframe thead th {\n",
       "        text-align: right;\n",
       "    }\n",
       "</style>\n",
       "<table border=\"1\" class=\"dataframe\">\n",
       "  <thead>\n",
       "    <tr style=\"text-align: right;\">\n",
       "      <th></th>\n",
       "      <th>time</th>\n",
       "      <th>Fp1</th>\n",
       "      <th>AF7</th>\n",
       "      <th>AF3</th>\n",
       "      <th>F1</th>\n",
       "      <th>F3</th>\n",
       "      <th>F5</th>\n",
       "      <th>F7</th>\n",
       "      <th>FT7</th>\n",
       "      <th>FC5</th>\n",
       "      <th>...</th>\n",
       "      <th>CP4</th>\n",
       "      <th>CP2</th>\n",
       "      <th>P2</th>\n",
       "      <th>P4</th>\n",
       "      <th>P6</th>\n",
       "      <th>P8</th>\n",
       "      <th>P10</th>\n",
       "      <th>PO8</th>\n",
       "      <th>PO4</th>\n",
       "      <th>O2</th>\n",
       "    </tr>\n",
       "  </thead>\n",
       "  <tbody>\n",
       "    <tr>\n",
       "      <th>190</th>\n",
       "      <td>-16</td>\n",
       "      <td>-2.33638</td>\n",
       "      <td>-2.234267</td>\n",
       "      <td>-1.938152</td>\n",
       "      <td>0.050127</td>\n",
       "      <td>-1.214868</td>\n",
       "      <td>-2.090845</td>\n",
       "      <td>-2.861908</td>\n",
       "      <td>-2.609863</td>\n",
       "      <td>-1.530406</td>\n",
       "      <td>...</td>\n",
       "      <td>1.906637</td>\n",
       "      <td>3.306186</td>\n",
       "      <td>2.232812</td>\n",
       "      <td>1.028812</td>\n",
       "      <td>0.495498</td>\n",
       "      <td>-0.231797</td>\n",
       "      <td>-2.892587</td>\n",
       "      <td>-0.970291</td>\n",
       "      <td>0.200296</td>\n",
       "      <td>-1.334615</td>\n",
       "    </tr>\n",
       "  </tbody>\n",
       "</table>\n",
       "<p>1 rows × 65 columns</p>\n",
       "</div>"
      ],
      "text/plain": [
       "     time      Fp1       AF7       AF3        F1        F3        F5  \\\n",
       "190   -16 -2.33638 -2.234267 -1.938152  0.050127 -1.214868 -2.090845   \n",
       "\n",
       "           F7       FT7       FC5  ...       CP4       CP2        P2  \\\n",
       "190 -2.861908 -2.609863 -1.530406  ...  1.906637  3.306186  2.232812   \n",
       "\n",
       "           P4        P6        P8       P10       PO8       PO4        O2  \n",
       "190  1.028812  0.495498 -0.231797 -2.892587 -0.970291  0.200296 -1.334615  \n",
       "\n",
       "[1 rows x 65 columns]"
      ]
     },
     "metadata": {},
     "output_type": "display_data"
    },
    {
     "name": "stdout",
     "output_type": "stream",
     "text": [
      "negative\n"
     ]
    },
    {
     "data": {
      "text/plain": [
       "3.6540520844296385"
      ]
     },
     "metadata": {},
     "output_type": "display_data"
    },
    {
     "data": {
      "text/html": [
       "<div>\n",
       "<style scoped>\n",
       "    .dataframe tbody tr th:only-of-type {\n",
       "        vertical-align: middle;\n",
       "    }\n",
       "\n",
       "    .dataframe tbody tr th {\n",
       "        vertical-align: top;\n",
       "    }\n",
       "\n",
       "    .dataframe thead th {\n",
       "        text-align: right;\n",
       "    }\n",
       "</style>\n",
       "<table border=\"1\" class=\"dataframe\">\n",
       "  <thead>\n",
       "    <tr style=\"text-align: right;\">\n",
       "      <th></th>\n",
       "      <th>time</th>\n",
       "      <th>Fp1</th>\n",
       "      <th>AF7</th>\n",
       "      <th>AF3</th>\n",
       "      <th>F1</th>\n",
       "      <th>F3</th>\n",
       "      <th>F5</th>\n",
       "      <th>F7</th>\n",
       "      <th>FT7</th>\n",
       "      <th>FC5</th>\n",
       "      <th>...</th>\n",
       "      <th>CP4</th>\n",
       "      <th>CP2</th>\n",
       "      <th>P2</th>\n",
       "      <th>P4</th>\n",
       "      <th>P6</th>\n",
       "      <th>P8</th>\n",
       "      <th>P10</th>\n",
       "      <th>PO8</th>\n",
       "      <th>PO4</th>\n",
       "      <th>O2</th>\n",
       "    </tr>\n",
       "  </thead>\n",
       "  <tbody>\n",
       "    <tr>\n",
       "      <th>189</th>\n",
       "      <td>-23</td>\n",
       "      <td>-1.692697</td>\n",
       "      <td>-1.447788</td>\n",
       "      <td>-1.389798</td>\n",
       "      <td>0.543204</td>\n",
       "      <td>-0.774109</td>\n",
       "      <td>-1.568376</td>\n",
       "      <td>-2.028719</td>\n",
       "      <td>-2.345236</td>\n",
       "      <td>-1.179545</td>\n",
       "      <td>...</td>\n",
       "      <td>1.303446</td>\n",
       "      <td>3.075072</td>\n",
       "      <td>2.061488</td>\n",
       "      <td>0.750888</td>\n",
       "      <td>0.171418</td>\n",
       "      <td>-0.539567</td>\n",
       "      <td>-2.963554</td>\n",
       "      <td>-0.794623</td>\n",
       "      <td>0.136978</td>\n",
       "      <td>-1.473843</td>\n",
       "    </tr>\n",
       "  </tbody>\n",
       "</table>\n",
       "<p>1 rows × 65 columns</p>\n",
       "</div>"
      ],
      "text/plain": [
       "     time       Fp1       AF7       AF3        F1        F3        F5  \\\n",
       "189   -23 -1.692697 -1.447788 -1.389798  0.543204 -0.774109 -1.568376   \n",
       "\n",
       "           F7       FT7       FC5  ...       CP4       CP2        P2  \\\n",
       "189 -2.028719 -2.345236 -1.179545  ...  1.303446  3.075072  2.061488   \n",
       "\n",
       "           P4        P6        P8       P10       PO8       PO4        O2  \n",
       "189  0.750888  0.171418 -0.539567 -2.963554 -0.794623  0.136978 -1.473843  \n",
       "\n",
       "[1 rows x 65 columns]"
      ]
     },
     "metadata": {},
     "output_type": "display_data"
    },
    {
     "name": "stdout",
     "output_type": "stream",
     "text": [
      "positive\n"
     ]
    },
    {
     "data": {
      "text/plain": [
       "3.1536120364402858"
      ]
     },
     "metadata": {},
     "output_type": "display_data"
    },
    {
     "data": {
      "text/html": [
       "<div>\n",
       "<style scoped>\n",
       "    .dataframe tbody tr th:only-of-type {\n",
       "        vertical-align: middle;\n",
       "    }\n",
       "\n",
       "    .dataframe tbody tr th {\n",
       "        vertical-align: top;\n",
       "    }\n",
       "\n",
       "    .dataframe thead th {\n",
       "        text-align: right;\n",
       "    }\n",
       "</style>\n",
       "<table border=\"1\" class=\"dataframe\">\n",
       "  <thead>\n",
       "    <tr style=\"text-align: right;\">\n",
       "      <th></th>\n",
       "      <th>time</th>\n",
       "      <th>Fp1</th>\n",
       "      <th>AF7</th>\n",
       "      <th>AF3</th>\n",
       "      <th>F1</th>\n",
       "      <th>F3</th>\n",
       "      <th>F5</th>\n",
       "      <th>F7</th>\n",
       "      <th>FT7</th>\n",
       "      <th>FC5</th>\n",
       "      <th>...</th>\n",
       "      <th>CP4</th>\n",
       "      <th>CP2</th>\n",
       "      <th>P2</th>\n",
       "      <th>P4</th>\n",
       "      <th>P6</th>\n",
       "      <th>P8</th>\n",
       "      <th>P10</th>\n",
       "      <th>PO8</th>\n",
       "      <th>PO4</th>\n",
       "      <th>O2</th>\n",
       "    </tr>\n",
       "  </thead>\n",
       "  <tbody>\n",
       "    <tr>\n",
       "      <th>189</th>\n",
       "      <td>-23</td>\n",
       "      <td>-1.622839</td>\n",
       "      <td>-1.518244</td>\n",
       "      <td>-1.533617</td>\n",
       "      <td>0.367661</td>\n",
       "      <td>-0.782742</td>\n",
       "      <td>-1.76426</td>\n",
       "      <td>-2.280193</td>\n",
       "      <td>-2.382944</td>\n",
       "      <td>-1.228527</td>\n",
       "      <td>...</td>\n",
       "      <td>1.462618</td>\n",
       "      <td>2.956358</td>\n",
       "      <td>1.991545</td>\n",
       "      <td>0.920364</td>\n",
       "      <td>0.305565</td>\n",
       "      <td>-0.549355</td>\n",
       "      <td>-2.57582</td>\n",
       "      <td>-0.746947</td>\n",
       "      <td>0.302036</td>\n",
       "      <td>-1.345239</td>\n",
       "    </tr>\n",
       "  </tbody>\n",
       "</table>\n",
       "<p>1 rows × 65 columns</p>\n",
       "</div>"
      ],
      "text/plain": [
       "     time       Fp1       AF7       AF3        F1        F3       F5  \\\n",
       "189   -23 -1.622839 -1.518244 -1.533617  0.367661 -0.782742 -1.76426   \n",
       "\n",
       "           F7       FT7       FC5  ...       CP4       CP2        P2  \\\n",
       "189 -2.280193 -2.382944 -1.228527  ...  1.462618  2.956358  1.991545   \n",
       "\n",
       "           P4        P6        P8      P10       PO8       PO4        O2  \n",
       "189  0.920364  0.305565 -0.549355 -2.57582 -0.746947  0.302036 -1.345239  \n",
       "\n",
       "[1 rows x 65 columns]"
      ]
     },
     "metadata": {},
     "output_type": "display_data"
    },
    {
     "name": "stdout",
     "output_type": "stream",
     "text": [
      "Minima correct\n",
      "Baseline\n"
     ]
    },
    {
     "data": {
      "text/plain": [
       "-2.0376997173107023"
      ]
     },
     "metadata": {},
     "output_type": "display_data"
    },
    {
     "data": {
      "text/html": [
       "<div>\n",
       "<style scoped>\n",
       "    .dataframe tbody tr th:only-of-type {\n",
       "        vertical-align: middle;\n",
       "    }\n",
       "\n",
       "    .dataframe tbody tr th {\n",
       "        vertical-align: top;\n",
       "    }\n",
       "\n",
       "    .dataframe thead th {\n",
       "        text-align: right;\n",
       "    }\n",
       "</style>\n",
       "<table border=\"1\" class=\"dataframe\">\n",
       "  <thead>\n",
       "    <tr style=\"text-align: right;\">\n",
       "      <th></th>\n",
       "      <th>time</th>\n",
       "      <th>Fp1</th>\n",
       "      <th>AF7</th>\n",
       "      <th>AF3</th>\n",
       "      <th>F1</th>\n",
       "      <th>F3</th>\n",
       "      <th>F5</th>\n",
       "      <th>F7</th>\n",
       "      <th>FT7</th>\n",
       "      <th>FC5</th>\n",
       "      <th>...</th>\n",
       "      <th>CP4</th>\n",
       "      <th>CP2</th>\n",
       "      <th>P2</th>\n",
       "      <th>P4</th>\n",
       "      <th>P6</th>\n",
       "      <th>P8</th>\n",
       "      <th>P10</th>\n",
       "      <th>PO8</th>\n",
       "      <th>PO4</th>\n",
       "      <th>O2</th>\n",
       "    </tr>\n",
       "  </thead>\n",
       "  <tbody>\n",
       "    <tr>\n",
       "      <th>249</th>\n",
       "      <td>445</td>\n",
       "      <td>1.184872</td>\n",
       "      <td>1.145254</td>\n",
       "      <td>0.48914</td>\n",
       "      <td>-1.198045</td>\n",
       "      <td>-0.6093</td>\n",
       "      <td>0.458641</td>\n",
       "      <td>0.589905</td>\n",
       "      <td>0.896211</td>\n",
       "      <td>-0.596828</td>\n",
       "      <td>...</td>\n",
       "      <td>-1.854894</td>\n",
       "      <td>-1.94234</td>\n",
       "      <td>-1.21985</td>\n",
       "      <td>-1.37237</td>\n",
       "      <td>-0.544813</td>\n",
       "      <td>1.086054</td>\n",
       "      <td>3.782648</td>\n",
       "      <td>0.970873</td>\n",
       "      <td>-0.193393</td>\n",
       "      <td>2.698428</td>\n",
       "    </tr>\n",
       "  </tbody>\n",
       "</table>\n",
       "<p>1 rows × 65 columns</p>\n",
       "</div>"
      ],
      "text/plain": [
       "     time       Fp1       AF7      AF3        F1      F3        F5        F7  \\\n",
       "249   445  1.184872  1.145254  0.48914 -1.198045 -0.6093  0.458641  0.589905   \n",
       "\n",
       "          FT7       FC5  ...       CP4      CP2       P2       P4        P6  \\\n",
       "249  0.896211 -0.596828  ... -1.854894 -1.94234 -1.21985 -1.37237 -0.544813   \n",
       "\n",
       "           P8       P10       PO8       PO4        O2  \n",
       "249  1.086054  3.782648  0.970873 -0.193393  2.698428  \n",
       "\n",
       "[1 rows x 65 columns]"
      ]
     },
     "metadata": {},
     "output_type": "display_data"
    },
    {
     "name": "stdout",
     "output_type": "stream",
     "text": [
      "negative\n"
     ]
    },
    {
     "data": {
      "text/plain": [
       "-1.2187289840005862"
      ]
     },
     "metadata": {},
     "output_type": "display_data"
    },
    {
     "data": {
      "text/html": [
       "<div>\n",
       "<style scoped>\n",
       "    .dataframe tbody tr th:only-of-type {\n",
       "        vertical-align: middle;\n",
       "    }\n",
       "\n",
       "    .dataframe tbody tr th {\n",
       "        vertical-align: top;\n",
       "    }\n",
       "\n",
       "    .dataframe thead th {\n",
       "        text-align: right;\n",
       "    }\n",
       "</style>\n",
       "<table border=\"1\" class=\"dataframe\">\n",
       "  <thead>\n",
       "    <tr style=\"text-align: right;\">\n",
       "      <th></th>\n",
       "      <th>time</th>\n",
       "      <th>Fp1</th>\n",
       "      <th>AF7</th>\n",
       "      <th>AF3</th>\n",
       "      <th>F1</th>\n",
       "      <th>F3</th>\n",
       "      <th>F5</th>\n",
       "      <th>F7</th>\n",
       "      <th>FT7</th>\n",
       "      <th>FC5</th>\n",
       "      <th>...</th>\n",
       "      <th>CP4</th>\n",
       "      <th>CP2</th>\n",
       "      <th>P2</th>\n",
       "      <th>P4</th>\n",
       "      <th>P6</th>\n",
       "      <th>P8</th>\n",
       "      <th>P10</th>\n",
       "      <th>PO8</th>\n",
       "      <th>PO4</th>\n",
       "      <th>O2</th>\n",
       "    </tr>\n",
       "  </thead>\n",
       "  <tbody>\n",
       "    <tr>\n",
       "      <th>259</th>\n",
       "      <td>523</td>\n",
       "      <td>0.977163</td>\n",
       "      <td>0.617678</td>\n",
       "      <td>0.147605</td>\n",
       "      <td>-0.806743</td>\n",
       "      <td>-0.988043</td>\n",
       "      <td>-0.640321</td>\n",
       "      <td>-0.158207</td>\n",
       "      <td>-0.205216</td>\n",
       "      <td>-0.988126</td>\n",
       "      <td>...</td>\n",
       "      <td>-1.488192</td>\n",
       "      <td>-1.542339</td>\n",
       "      <td>-0.267459</td>\n",
       "      <td>-0.683045</td>\n",
       "      <td>0.016269</td>\n",
       "      <td>1.161209</td>\n",
       "      <td>3.027436</td>\n",
       "      <td>1.721475</td>\n",
       "      <td>0.878852</td>\n",
       "      <td>2.871268</td>\n",
       "    </tr>\n",
       "  </tbody>\n",
       "</table>\n",
       "<p>1 rows × 65 columns</p>\n",
       "</div>"
      ],
      "text/plain": [
       "     time       Fp1       AF7       AF3        F1        F3        F5  \\\n",
       "259   523  0.977163  0.617678  0.147605 -0.806743 -0.988043 -0.640321   \n",
       "\n",
       "           F7       FT7       FC5  ...       CP4       CP2        P2  \\\n",
       "259 -0.158207 -0.205216 -0.988126  ... -1.488192 -1.542339 -0.267459   \n",
       "\n",
       "           P4        P6        P8       P10       PO8       PO4        O2  \n",
       "259 -0.683045  0.016269  1.161209  3.027436  1.721475  0.878852  2.871268  \n",
       "\n",
       "[1 rows x 65 columns]"
      ]
     },
     "metadata": {},
     "output_type": "display_data"
    },
    {
     "name": "stdout",
     "output_type": "stream",
     "text": [
      "positive\n"
     ]
    },
    {
     "data": {
      "text/plain": [
       "-1.0285733127355232"
      ]
     },
     "metadata": {},
     "output_type": "display_data"
    },
    {
     "data": {
      "text/html": [
       "<div>\n",
       "<style scoped>\n",
       "    .dataframe tbody tr th:only-of-type {\n",
       "        vertical-align: middle;\n",
       "    }\n",
       "\n",
       "    .dataframe tbody tr th {\n",
       "        vertical-align: top;\n",
       "    }\n",
       "\n",
       "    .dataframe thead th {\n",
       "        text-align: right;\n",
       "    }\n",
       "</style>\n",
       "<table border=\"1\" class=\"dataframe\">\n",
       "  <thead>\n",
       "    <tr style=\"text-align: right;\">\n",
       "      <th></th>\n",
       "      <th>time</th>\n",
       "      <th>Fp1</th>\n",
       "      <th>AF7</th>\n",
       "      <th>AF3</th>\n",
       "      <th>F1</th>\n",
       "      <th>F3</th>\n",
       "      <th>F5</th>\n",
       "      <th>F7</th>\n",
       "      <th>FT7</th>\n",
       "      <th>FC5</th>\n",
       "      <th>...</th>\n",
       "      <th>CP4</th>\n",
       "      <th>CP2</th>\n",
       "      <th>P2</th>\n",
       "      <th>P4</th>\n",
       "      <th>P6</th>\n",
       "      <th>P8</th>\n",
       "      <th>P10</th>\n",
       "      <th>PO8</th>\n",
       "      <th>PO4</th>\n",
       "      <th>O2</th>\n",
       "    </tr>\n",
       "  </thead>\n",
       "  <tbody>\n",
       "    <tr>\n",
       "      <th>256</th>\n",
       "      <td>500</td>\n",
       "      <td>1.380656</td>\n",
       "      <td>0.77643</td>\n",
       "      <td>0.073844</td>\n",
       "      <td>-0.935216</td>\n",
       "      <td>-0.748332</td>\n",
       "      <td>-0.418151</td>\n",
       "      <td>-0.506291</td>\n",
       "      <td>-0.014469</td>\n",
       "      <td>-0.714806</td>\n",
       "      <td>...</td>\n",
       "      <td>-1.204208</td>\n",
       "      <td>-1.58188</td>\n",
       "      <td>-0.559797</td>\n",
       "      <td>-0.515115</td>\n",
       "      <td>-0.302352</td>\n",
       "      <td>0.64583</td>\n",
       "      <td>2.738149</td>\n",
       "      <td>1.164958</td>\n",
       "      <td>0.448689</td>\n",
       "      <td>2.552149</td>\n",
       "    </tr>\n",
       "  </tbody>\n",
       "</table>\n",
       "<p>1 rows × 65 columns</p>\n",
       "</div>"
      ],
      "text/plain": [
       "     time       Fp1      AF7       AF3        F1        F3        F5  \\\n",
       "256   500  1.380656  0.77643  0.073844 -0.935216 -0.748332 -0.418151   \n",
       "\n",
       "           F7       FT7       FC5  ...       CP4      CP2        P2        P4  \\\n",
       "256 -0.506291 -0.014469 -0.714806  ... -1.204208 -1.58188 -0.559797 -0.515115   \n",
       "\n",
       "           P6       P8       P10       PO8       PO4        O2  \n",
       "256 -0.302352  0.64583  2.738149  1.164958  0.448689  2.552149  \n",
       "\n",
       "[1 rows x 65 columns]"
      ]
     },
     "metadata": {},
     "output_type": "display_data"
    },
    {
     "name": "stdout",
     "output_type": "stream",
     "text": [
      "means & std correct\n",
      "base\n"
     ]
    },
    {
     "data": {
      "text/plain": [
       "-0.12429445733288809"
      ]
     },
     "metadata": {},
     "output_type": "display_data"
    },
    {
     "data": {
      "text/plain": [
       "0.9438850877630734"
      ]
     },
     "metadata": {},
     "output_type": "display_data"
    },
    {
     "name": "stdout",
     "output_type": "stream",
     "text": [
      "neg\n"
     ]
    },
    {
     "data": {
      "text/plain": [
       "0.08083865354030668"
      ]
     },
     "metadata": {},
     "output_type": "display_data"
    },
    {
     "data": {
      "text/plain": [
       "0.7279387061600138"
      ]
     },
     "metadata": {},
     "output_type": "display_data"
    },
    {
     "name": "stdout",
     "output_type": "stream",
     "text": [
      "pos\n"
     ]
    },
    {
     "data": {
      "text/plain": [
       "0.1923419185663688"
      ]
     },
     "metadata": {},
     "output_type": "display_data"
    },
    {
     "data": {
      "text/plain": [
       "0.7000938425040367"
      ]
     },
     "metadata": {},
     "output_type": "display_data"
    }
   ],
   "source": [
    "print('Maxima incorrect')\n",
    "print('Baseline')\n",
    "\n",
    "ga_incong_base_df = neg_ga_incongruent_incorrect_base.to_data_frame()\n",
    "display(ga_incong_base_df[ 'FCz'].max())\n",
    "\n",
    "display(ga_incong_base_df.loc[ga_incong_base_df['FCz'] == ga_incong_base_df['FCz'].max()])\n",
    "\n",
    "print('negative')\n",
    "\n",
    "ga_incong_correct_neg_df = neg_ga_incongruent_incorrect_neg.to_data_frame()\n",
    "display(ga_incong_correct_neg_df[ 'FCz'].max())\n",
    "\n",
    "display(ga_incong_correct_neg_df.loc[ga_incong_correct_neg_df['FCz'] == ga_incong_correct_neg_df[ 'FCz'].max()])\n",
    "\n",
    "print('positive')\n",
    "\n",
    "ga_incong_correct_pos_df = neg_ga_incongruent_incorrect_pos.to_data_frame()\n",
    "display(ga_incong_correct_pos_df[ 'FCz'].max())\n",
    "\n",
    "display(ga_incong_correct_pos_df.loc[ga_incong_correct_pos_df['FCz'] == ga_incong_correct_pos_df[ 'FCz'].max()])\n",
    "\n",
    "print('Minima incorrect')\n",
    "print('Baseline')\n",
    "\n",
    "ga_incong_base_df = neg_ga_incongruent_incorrect_base.to_data_frame()\n",
    "display(ga_incong_base_df[ 'FCz'].min())\n",
    "\n",
    "display(ga_incong_base_df.loc[ga_incong_base_df['FCz'] == ga_incong_base_df['FCz'].min()])\n",
    "\n",
    "print('negative')\n",
    "\n",
    "ga_incong_neg_df = neg_ga_incongruent_incorrect_neg.to_data_frame()\n",
    "display(ga_incong_neg_df[ 'FCz'].min())\n",
    "\n",
    "display(ga_incong_neg_df.loc[ga_incong_neg_df['FCz'] == ga_incong_neg_df[ 'FCz'].min()])\n",
    "print('positive')\n",
    "\n",
    "ga_incong_pos_df = neg_ga_incongruent_incorrect_pos.to_data_frame()\n",
    "display(ga_incong_pos_df[ 'FCz'].min())\n",
    "\n",
    "display(ga_incong_pos_df.loc[ga_incong_pos_df['FCz'] == ga_incong_pos_df[ 'FCz'].min()])\n",
    "\n",
    "print('means & std incorrect')\n",
    "print('base')\n",
    "display(ga_incong_base_df[ 'FCz'].mean())\n",
    "display(ga_incong_base_df[ 'FCz'].std())\n",
    "\n",
    "print('neg')\n",
    "display(ga_incong_neg_df[ 'FCz'].mean())\n",
    "display(ga_incong_neg_df[ 'FCz'].std())\n",
    "\n",
    "print('pos')\n",
    "display(ga_incong_pos_df[ 'FCz'].mean())\n",
    "display(ga_incong_pos_df[ 'FCz'].std())\n",
    "\n",
    "print('Maxima correct')\n",
    "print('Baseline')\n",
    "\n",
    "ga_incong_base_df = neg_ga_incongruent_correct_base.to_data_frame()\n",
    "display(ga_incong_base_df[ 'FCz'].max())\n",
    "\n",
    "display(ga_incong_base_df.loc[ga_incong_base_df['FCz'] == ga_incong_base_df['FCz'].max()])\n",
    "\n",
    "print('negative')\n",
    "\n",
    "ga_incong_neg_df = neg_ga_incongruent_correct_neg.to_data_frame()\n",
    "display(ga_incong_neg_df[ 'FCz'].max())\n",
    "\n",
    "display(ga_incong_neg_df.loc[ga_incong_neg_df['FCz'] == ga_incong_neg_df[ 'FCz'].max()])\n",
    "\n",
    "print('positive')\n",
    "\n",
    "ga_incong_pos_df = neg_ga_incongruent_correct_pos.to_data_frame()\n",
    "display(ga_incong_pos_df[ 'FCz'].max())\n",
    "\n",
    "display(ga_incong_pos_df.loc[ga_incong_pos_df['FCz'] == ga_incong_pos_df[ 'FCz'].max()])\n",
    "\n",
    "print('Minima correct')\n",
    "print('Baseline')\n",
    "\n",
    "ga_incong_base_df = neg_ga_incongruent_correct_base.to_data_frame()\n",
    "display(ga_incong_base_df[ 'FCz'].min())\n",
    "\n",
    "display(ga_incong_base_df.loc[ga_incong_base_df['FCz'] == ga_incong_base_df['FCz'].min()])\n",
    "\n",
    "print('negative')\n",
    "\n",
    "ga_incong_neg_df = neg_ga_incongruent_correct_neg.to_data_frame()\n",
    "display(ga_incong_neg_df[ 'FCz'].min())\n",
    "\n",
    "display(ga_incong_neg_df.loc[ga_incong_neg_df['FCz'] == ga_incong_neg_df[ 'FCz'].min()])\n",
    "\n",
    "print('positive')\n",
    "\n",
    "ga_incong_pos_df = neg_ga_incongruent_correct_pos.to_data_frame()\n",
    "display(ga_incong_pos_df[ 'FCz'].min())\n",
    "\n",
    "display(ga_incong_pos_df.loc[ga_incong_pos_df['FCz'] == ga_incong_pos_df[ 'FCz'].min()])\n",
    "\n",
    "print('means & std correct')\n",
    "print('base')\n",
    "display(ga_incong_base_df[ 'FCz'].mean())\n",
    "display(ga_incong_base_df[ 'FCz'].std())\n",
    "\n",
    "print('neg')\n",
    "display(ga_incong_neg_df[ 'FCz'].mean())\n",
    "display(ga_incong_neg_df[ 'FCz'].std())\n",
    "\n",
    "print('pos')\n",
    "display(ga_incong_pos_df[ 'FCz'].mean())\n",
    "display(ga_incong_pos_df[ 'FCz'].std())"
   ]
  },
  {
   "cell_type": "markdown",
   "metadata": {},
   "source": [
    "### print minima and maxima for pos group"
   ]
  },
  {
   "cell_type": "code",
   "execution_count": 6,
   "metadata": {
    "scrolled": false
   },
   "outputs": [
    {
     "name": "stdout",
     "output_type": "stream",
     "text": [
      "Maxima incorrect\n",
      "Baseline\n"
     ]
    },
    {
     "data": {
      "text/plain": [
       "5.640412816008888"
      ]
     },
     "metadata": {},
     "output_type": "display_data"
    },
    {
     "data": {
      "text/html": [
       "<div>\n",
       "<style scoped>\n",
       "    .dataframe tbody tr th:only-of-type {\n",
       "        vertical-align: middle;\n",
       "    }\n",
       "\n",
       "    .dataframe tbody tr th {\n",
       "        vertical-align: top;\n",
       "    }\n",
       "\n",
       "    .dataframe thead th {\n",
       "        text-align: right;\n",
       "    }\n",
       "</style>\n",
       "<table border=\"1\" class=\"dataframe\">\n",
       "  <thead>\n",
       "    <tr style=\"text-align: right;\">\n",
       "      <th></th>\n",
       "      <th>time</th>\n",
       "      <th>Fp1</th>\n",
       "      <th>AF7</th>\n",
       "      <th>AF3</th>\n",
       "      <th>F1</th>\n",
       "      <th>F3</th>\n",
       "      <th>F5</th>\n",
       "      <th>F7</th>\n",
       "      <th>FT7</th>\n",
       "      <th>FC5</th>\n",
       "      <th>...</th>\n",
       "      <th>CP4</th>\n",
       "      <th>CP2</th>\n",
       "      <th>P2</th>\n",
       "      <th>P4</th>\n",
       "      <th>P6</th>\n",
       "      <th>P8</th>\n",
       "      <th>P10</th>\n",
       "      <th>PO8</th>\n",
       "      <th>PO4</th>\n",
       "      <th>O2</th>\n",
       "    </tr>\n",
       "  </thead>\n",
       "  <tbody>\n",
       "    <tr>\n",
       "      <th>218</th>\n",
       "      <td>203</td>\n",
       "      <td>-4.313931</td>\n",
       "      <td>-7.000461</td>\n",
       "      <td>-5.197996</td>\n",
       "      <td>-1.312912</td>\n",
       "      <td>-4.558817</td>\n",
       "      <td>-6.489894</td>\n",
       "      <td>-6.464818</td>\n",
       "      <td>-5.219769</td>\n",
       "      <td>-4.182979</td>\n",
       "      <td>...</td>\n",
       "      <td>3.820326</td>\n",
       "      <td>6.471478</td>\n",
       "      <td>5.353278</td>\n",
       "      <td>3.201968</td>\n",
       "      <td>1.214087</td>\n",
       "      <td>-0.316757</td>\n",
       "      <td>-4.181284</td>\n",
       "      <td>0.263704</td>\n",
       "      <td>1.51571</td>\n",
       "      <td>0.188241</td>\n",
       "    </tr>\n",
       "  </tbody>\n",
       "</table>\n",
       "<p>1 rows × 65 columns</p>\n",
       "</div>"
      ],
      "text/plain": [
       "     time       Fp1       AF7       AF3        F1        F3        F5  \\\n",
       "218   203 -4.313931 -7.000461 -5.197996 -1.312912 -4.558817 -6.489894   \n",
       "\n",
       "           F7       FT7       FC5  ...       CP4       CP2        P2  \\\n",
       "218 -6.464818 -5.219769 -4.182979  ...  3.820326  6.471478  5.353278   \n",
       "\n",
       "           P4        P6        P8       P10       PO8      PO4        O2  \n",
       "218  3.201968  1.214087 -0.316757 -4.181284  0.263704  1.51571  0.188241  \n",
       "\n",
       "[1 rows x 65 columns]"
      ]
     },
     "metadata": {},
     "output_type": "display_data"
    },
    {
     "name": "stdout",
     "output_type": "stream",
     "text": [
      "negative\n"
     ]
    },
    {
     "data": {
      "text/plain": [
       "4.0970264571889485"
      ]
     },
     "metadata": {},
     "output_type": "display_data"
    },
    {
     "data": {
      "text/html": [
       "<div>\n",
       "<style scoped>\n",
       "    .dataframe tbody tr th:only-of-type {\n",
       "        vertical-align: middle;\n",
       "    }\n",
       "\n",
       "    .dataframe tbody tr th {\n",
       "        vertical-align: top;\n",
       "    }\n",
       "\n",
       "    .dataframe thead th {\n",
       "        text-align: right;\n",
       "    }\n",
       "</style>\n",
       "<table border=\"1\" class=\"dataframe\">\n",
       "  <thead>\n",
       "    <tr style=\"text-align: right;\">\n",
       "      <th></th>\n",
       "      <th>time</th>\n",
       "      <th>Fp1</th>\n",
       "      <th>AF7</th>\n",
       "      <th>AF3</th>\n",
       "      <th>F1</th>\n",
       "      <th>F3</th>\n",
       "      <th>F5</th>\n",
       "      <th>F7</th>\n",
       "      <th>FT7</th>\n",
       "      <th>FC5</th>\n",
       "      <th>...</th>\n",
       "      <th>CP4</th>\n",
       "      <th>CP2</th>\n",
       "      <th>P2</th>\n",
       "      <th>P4</th>\n",
       "      <th>P6</th>\n",
       "      <th>P8</th>\n",
       "      <th>P10</th>\n",
       "      <th>PO8</th>\n",
       "      <th>PO4</th>\n",
       "      <th>O2</th>\n",
       "    </tr>\n",
       "  </thead>\n",
       "  <tbody>\n",
       "    <tr>\n",
       "      <th>219</th>\n",
       "      <td>211</td>\n",
       "      <td>-3.043969</td>\n",
       "      <td>-4.420501</td>\n",
       "      <td>-3.331267</td>\n",
       "      <td>-0.570099</td>\n",
       "      <td>-2.485396</td>\n",
       "      <td>-3.87839</td>\n",
       "      <td>-4.678045</td>\n",
       "      <td>-3.391321</td>\n",
       "      <td>-1.777667</td>\n",
       "      <td>...</td>\n",
       "      <td>2.337834</td>\n",
       "      <td>5.680052</td>\n",
       "      <td>4.566897</td>\n",
       "      <td>1.550275</td>\n",
       "      <td>0.016486</td>\n",
       "      <td>-1.686256</td>\n",
       "      <td>-3.688259</td>\n",
       "      <td>-0.582893</td>\n",
       "      <td>1.277308</td>\n",
       "      <td>-0.012189</td>\n",
       "    </tr>\n",
       "  </tbody>\n",
       "</table>\n",
       "<p>1 rows × 65 columns</p>\n",
       "</div>"
      ],
      "text/plain": [
       "     time       Fp1       AF7       AF3        F1        F3       F5  \\\n",
       "219   211 -3.043969 -4.420501 -3.331267 -0.570099 -2.485396 -3.87839   \n",
       "\n",
       "           F7       FT7       FC5  ...       CP4       CP2        P2  \\\n",
       "219 -4.678045 -3.391321 -1.777667  ...  2.337834  5.680052  4.566897   \n",
       "\n",
       "           P4        P6        P8       P10       PO8       PO4        O2  \n",
       "219  1.550275  0.016486 -1.686256 -3.688259 -0.582893  1.277308 -0.012189  \n",
       "\n",
       "[1 rows x 65 columns]"
      ]
     },
     "metadata": {},
     "output_type": "display_data"
    },
    {
     "name": "stdout",
     "output_type": "stream",
     "text": [
      "positive\n"
     ]
    },
    {
     "data": {
      "text/plain": [
       "5.762254146700483"
      ]
     },
     "metadata": {},
     "output_type": "display_data"
    },
    {
     "data": {
      "text/html": [
       "<div>\n",
       "<style scoped>\n",
       "    .dataframe tbody tr th:only-of-type {\n",
       "        vertical-align: middle;\n",
       "    }\n",
       "\n",
       "    .dataframe tbody tr th {\n",
       "        vertical-align: top;\n",
       "    }\n",
       "\n",
       "    .dataframe thead th {\n",
       "        text-align: right;\n",
       "    }\n",
       "</style>\n",
       "<table border=\"1\" class=\"dataframe\">\n",
       "  <thead>\n",
       "    <tr style=\"text-align: right;\">\n",
       "      <th></th>\n",
       "      <th>time</th>\n",
       "      <th>Fp1</th>\n",
       "      <th>AF7</th>\n",
       "      <th>AF3</th>\n",
       "      <th>F1</th>\n",
       "      <th>F3</th>\n",
       "      <th>F5</th>\n",
       "      <th>F7</th>\n",
       "      <th>FT7</th>\n",
       "      <th>FC5</th>\n",
       "      <th>...</th>\n",
       "      <th>CP4</th>\n",
       "      <th>CP2</th>\n",
       "      <th>P2</th>\n",
       "      <th>P4</th>\n",
       "      <th>P6</th>\n",
       "      <th>P8</th>\n",
       "      <th>P10</th>\n",
       "      <th>PO8</th>\n",
       "      <th>PO4</th>\n",
       "      <th>O2</th>\n",
       "    </tr>\n",
       "  </thead>\n",
       "  <tbody>\n",
       "    <tr>\n",
       "      <th>213</th>\n",
       "      <td>164</td>\n",
       "      <td>-3.491719</td>\n",
       "      <td>-4.56319</td>\n",
       "      <td>-3.457617</td>\n",
       "      <td>-0.297495</td>\n",
       "      <td>-3.090369</td>\n",
       "      <td>-3.889797</td>\n",
       "      <td>-4.540792</td>\n",
       "      <td>-3.571628</td>\n",
       "      <td>-2.524606</td>\n",
       "      <td>...</td>\n",
       "      <td>2.71038</td>\n",
       "      <td>5.092639</td>\n",
       "      <td>3.401001</td>\n",
       "      <td>1.499206</td>\n",
       "      <td>0.649519</td>\n",
       "      <td>-0.911923</td>\n",
       "      <td>-3.135662</td>\n",
       "      <td>-1.452464</td>\n",
       "      <td>-0.227898</td>\n",
       "      <td>-1.951285</td>\n",
       "    </tr>\n",
       "  </tbody>\n",
       "</table>\n",
       "<p>1 rows × 65 columns</p>\n",
       "</div>"
      ],
      "text/plain": [
       "     time       Fp1      AF7       AF3        F1        F3        F5  \\\n",
       "213   164 -3.491719 -4.56319 -3.457617 -0.297495 -3.090369 -3.889797   \n",
       "\n",
       "           F7       FT7       FC5  ...      CP4       CP2        P2        P4  \\\n",
       "213 -4.540792 -3.571628 -2.524606  ...  2.71038  5.092639  3.401001  1.499206   \n",
       "\n",
       "           P6        P8       P10       PO8       PO4        O2  \n",
       "213  0.649519 -0.911923 -3.135662 -1.452464 -0.227898 -1.951285  \n",
       "\n",
       "[1 rows x 65 columns]"
      ]
     },
     "metadata": {},
     "output_type": "display_data"
    },
    {
     "name": "stdout",
     "output_type": "stream",
     "text": [
      "Minima incorrect\n",
      "Baseline\n"
     ]
    },
    {
     "data": {
      "text/plain": [
       "-11.132407671026257"
      ]
     },
     "metadata": {},
     "output_type": "display_data"
    },
    {
     "data": {
      "text/html": [
       "<div>\n",
       "<style scoped>\n",
       "    .dataframe tbody tr th:only-of-type {\n",
       "        vertical-align: middle;\n",
       "    }\n",
       "\n",
       "    .dataframe tbody tr th {\n",
       "        vertical-align: top;\n",
       "    }\n",
       "\n",
       "    .dataframe thead th {\n",
       "        text-align: right;\n",
       "    }\n",
       "</style>\n",
       "<table border=\"1\" class=\"dataframe\">\n",
       "  <thead>\n",
       "    <tr style=\"text-align: right;\">\n",
       "      <th></th>\n",
       "      <th>time</th>\n",
       "      <th>Fp1</th>\n",
       "      <th>AF7</th>\n",
       "      <th>AF3</th>\n",
       "      <th>F1</th>\n",
       "      <th>F3</th>\n",
       "      <th>F5</th>\n",
       "      <th>F7</th>\n",
       "      <th>FT7</th>\n",
       "      <th>FC5</th>\n",
       "      <th>...</th>\n",
       "      <th>CP4</th>\n",
       "      <th>CP2</th>\n",
       "      <th>P2</th>\n",
       "      <th>P4</th>\n",
       "      <th>P6</th>\n",
       "      <th>P8</th>\n",
       "      <th>P10</th>\n",
       "      <th>PO8</th>\n",
       "      <th>PO4</th>\n",
       "      <th>O2</th>\n",
       "    </tr>\n",
       "  </thead>\n",
       "  <tbody>\n",
       "    <tr>\n",
       "      <th>197</th>\n",
       "      <td>39</td>\n",
       "      <td>-3.180724</td>\n",
       "      <td>-2.844478</td>\n",
       "      <td>-3.538583</td>\n",
       "      <td>-7.48715</td>\n",
       "      <td>-4.301112</td>\n",
       "      <td>-2.394874</td>\n",
       "      <td>-0.861539</td>\n",
       "      <td>0.584629</td>\n",
       "      <td>-0.962432</td>\n",
       "      <td>...</td>\n",
       "      <td>2.838099</td>\n",
       "      <td>0.09864</td>\n",
       "      <td>3.25434</td>\n",
       "      <td>5.025786</td>\n",
       "      <td>5.192968</td>\n",
       "      <td>5.905153</td>\n",
       "      <td>4.59868</td>\n",
       "      <td>5.958515</td>\n",
       "      <td>4.491051</td>\n",
       "      <td>4.395818</td>\n",
       "    </tr>\n",
       "  </tbody>\n",
       "</table>\n",
       "<p>1 rows × 65 columns</p>\n",
       "</div>"
      ],
      "text/plain": [
       "     time       Fp1       AF7       AF3       F1        F3        F5  \\\n",
       "197    39 -3.180724 -2.844478 -3.538583 -7.48715 -4.301112 -2.394874   \n",
       "\n",
       "           F7       FT7       FC5  ...       CP4      CP2       P2        P4  \\\n",
       "197 -0.861539  0.584629 -0.962432  ...  2.838099  0.09864  3.25434  5.025786   \n",
       "\n",
       "           P6        P8      P10       PO8       PO4        O2  \n",
       "197  5.192968  5.905153  4.59868  5.958515  4.491051  4.395818  \n",
       "\n",
       "[1 rows x 65 columns]"
      ]
     },
     "metadata": {},
     "output_type": "display_data"
    },
    {
     "name": "stdout",
     "output_type": "stream",
     "text": [
      "negative\n"
     ]
    },
    {
     "data": {
      "text/plain": [
       "-9.568343840858414"
      ]
     },
     "metadata": {},
     "output_type": "display_data"
    },
    {
     "data": {
      "text/html": [
       "<div>\n",
       "<style scoped>\n",
       "    .dataframe tbody tr th:only-of-type {\n",
       "        vertical-align: middle;\n",
       "    }\n",
       "\n",
       "    .dataframe tbody tr th {\n",
       "        vertical-align: top;\n",
       "    }\n",
       "\n",
       "    .dataframe thead th {\n",
       "        text-align: right;\n",
       "    }\n",
       "</style>\n",
       "<table border=\"1\" class=\"dataframe\">\n",
       "  <thead>\n",
       "    <tr style=\"text-align: right;\">\n",
       "      <th></th>\n",
       "      <th>time</th>\n",
       "      <th>Fp1</th>\n",
       "      <th>AF7</th>\n",
       "      <th>AF3</th>\n",
       "      <th>F1</th>\n",
       "      <th>F3</th>\n",
       "      <th>F5</th>\n",
       "      <th>F7</th>\n",
       "      <th>FT7</th>\n",
       "      <th>FC5</th>\n",
       "      <th>...</th>\n",
       "      <th>CP4</th>\n",
       "      <th>CP2</th>\n",
       "      <th>P2</th>\n",
       "      <th>P4</th>\n",
       "      <th>P6</th>\n",
       "      <th>P8</th>\n",
       "      <th>P10</th>\n",
       "      <th>PO8</th>\n",
       "      <th>PO4</th>\n",
       "      <th>O2</th>\n",
       "    </tr>\n",
       "  </thead>\n",
       "  <tbody>\n",
       "    <tr>\n",
       "      <th>196</th>\n",
       "      <td>31</td>\n",
       "      <td>-3.800067</td>\n",
       "      <td>-3.387411</td>\n",
       "      <td>-4.163848</td>\n",
       "      <td>-7.05288</td>\n",
       "      <td>-4.623004</td>\n",
       "      <td>-2.596279</td>\n",
       "      <td>-1.49589</td>\n",
       "      <td>0.020078</td>\n",
       "      <td>-1.449944</td>\n",
       "      <td>...</td>\n",
       "      <td>3.124767</td>\n",
       "      <td>1.083637</td>\n",
       "      <td>4.013867</td>\n",
       "      <td>4.427569</td>\n",
       "      <td>4.385033</td>\n",
       "      <td>5.297736</td>\n",
       "      <td>3.310898</td>\n",
       "      <td>5.513392</td>\n",
       "      <td>4.66952</td>\n",
       "      <td>3.96289</td>\n",
       "    </tr>\n",
       "  </tbody>\n",
       "</table>\n",
       "<p>1 rows × 65 columns</p>\n",
       "</div>"
      ],
      "text/plain": [
       "     time       Fp1       AF7       AF3       F1        F3        F5       F7  \\\n",
       "196    31 -3.800067 -3.387411 -4.163848 -7.05288 -4.623004 -2.596279 -1.49589   \n",
       "\n",
       "          FT7       FC5  ...       CP4       CP2        P2        P4  \\\n",
       "196  0.020078 -1.449944  ...  3.124767  1.083637  4.013867  4.427569   \n",
       "\n",
       "           P6        P8       P10       PO8      PO4       O2  \n",
       "196  4.385033  5.297736  3.310898  5.513392  4.66952  3.96289  \n",
       "\n",
       "[1 rows x 65 columns]"
      ]
     },
     "metadata": {},
     "output_type": "display_data"
    },
    {
     "name": "stdout",
     "output_type": "stream",
     "text": [
      "positive\n"
     ]
    },
    {
     "data": {
      "text/plain": [
       "-8.635796823503195"
      ]
     },
     "metadata": {},
     "output_type": "display_data"
    },
    {
     "data": {
      "text/html": [
       "<div>\n",
       "<style scoped>\n",
       "    .dataframe tbody tr th:only-of-type {\n",
       "        vertical-align: middle;\n",
       "    }\n",
       "\n",
       "    .dataframe tbody tr th {\n",
       "        vertical-align: top;\n",
       "    }\n",
       "\n",
       "    .dataframe thead th {\n",
       "        text-align: right;\n",
       "    }\n",
       "</style>\n",
       "<table border=\"1\" class=\"dataframe\">\n",
       "  <thead>\n",
       "    <tr style=\"text-align: right;\">\n",
       "      <th></th>\n",
       "      <th>time</th>\n",
       "      <th>Fp1</th>\n",
       "      <th>AF7</th>\n",
       "      <th>AF3</th>\n",
       "      <th>F1</th>\n",
       "      <th>F3</th>\n",
       "      <th>F5</th>\n",
       "      <th>F7</th>\n",
       "      <th>FT7</th>\n",
       "      <th>FC5</th>\n",
       "      <th>...</th>\n",
       "      <th>CP4</th>\n",
       "      <th>CP2</th>\n",
       "      <th>P2</th>\n",
       "      <th>P4</th>\n",
       "      <th>P6</th>\n",
       "      <th>P8</th>\n",
       "      <th>P10</th>\n",
       "      <th>PO8</th>\n",
       "      <th>PO4</th>\n",
       "      <th>O2</th>\n",
       "    </tr>\n",
       "  </thead>\n",
       "  <tbody>\n",
       "    <tr>\n",
       "      <th>197</th>\n",
       "      <td>39</td>\n",
       "      <td>-3.78438</td>\n",
       "      <td>-3.193306</td>\n",
       "      <td>-3.33605</td>\n",
       "      <td>-5.755458</td>\n",
       "      <td>-3.317401</td>\n",
       "      <td>-1.528276</td>\n",
       "      <td>-1.159311</td>\n",
       "      <td>0.029186</td>\n",
       "      <td>-0.519112</td>\n",
       "      <td>...</td>\n",
       "      <td>2.559915</td>\n",
       "      <td>0.728453</td>\n",
       "      <td>3.158174</td>\n",
       "      <td>4.231874</td>\n",
       "      <td>4.653754</td>\n",
       "      <td>4.40775</td>\n",
       "      <td>2.587797</td>\n",
       "      <td>4.487744</td>\n",
       "      <td>3.382896</td>\n",
       "      <td>3.008876</td>\n",
       "    </tr>\n",
       "  </tbody>\n",
       "</table>\n",
       "<p>1 rows × 65 columns</p>\n",
       "</div>"
      ],
      "text/plain": [
       "     time      Fp1       AF7      AF3        F1        F3        F5        F7  \\\n",
       "197    39 -3.78438 -3.193306 -3.33605 -5.755458 -3.317401 -1.528276 -1.159311   \n",
       "\n",
       "          FT7       FC5  ...       CP4       CP2        P2        P4  \\\n",
       "197  0.029186 -0.519112  ...  2.559915  0.728453  3.158174  4.231874   \n",
       "\n",
       "           P6       P8       P10       PO8       PO4        O2  \n",
       "197  4.653754  4.40775  2.587797  4.487744  3.382896  3.008876  \n",
       "\n",
       "[1 rows x 65 columns]"
      ]
     },
     "metadata": {},
     "output_type": "display_data"
    },
    {
     "name": "stdout",
     "output_type": "stream",
     "text": [
      "means & std incorrect\n",
      "base\n"
     ]
    },
    {
     "data": {
      "text/plain": [
       "-0.8190506664984278"
      ]
     },
     "metadata": {},
     "output_type": "display_data"
    },
    {
     "data": {
      "text/plain": [
       "2.1777854374127785"
      ]
     },
     "metadata": {},
     "output_type": "display_data"
    },
    {
     "name": "stdout",
     "output_type": "stream",
     "text": [
      "neg\n"
     ]
    },
    {
     "data": {
      "text/plain": [
       "-0.7110068093399007"
      ]
     },
     "metadata": {},
     "output_type": "display_data"
    },
    {
     "data": {
      "text/plain": [
       "2.1726591045907897"
      ]
     },
     "metadata": {},
     "output_type": "display_data"
    },
    {
     "name": "stdout",
     "output_type": "stream",
     "text": [
      "pos\n"
     ]
    },
    {
     "data": {
      "text/plain": [
       "-0.22603024324801343"
      ]
     },
     "metadata": {},
     "output_type": "display_data"
    },
    {
     "data": {
      "text/plain": [
       "2.03350788648729"
      ]
     },
     "metadata": {},
     "output_type": "display_data"
    },
    {
     "name": "stdout",
     "output_type": "stream",
     "text": [
      "Maxima correct\n",
      "Baseline\n"
     ]
    },
    {
     "data": {
      "text/plain": [
       "2.990876201424592"
      ]
     },
     "metadata": {},
     "output_type": "display_data"
    },
    {
     "data": {
      "text/html": [
       "<div>\n",
       "<style scoped>\n",
       "    .dataframe tbody tr th:only-of-type {\n",
       "        vertical-align: middle;\n",
       "    }\n",
       "\n",
       "    .dataframe tbody tr th {\n",
       "        vertical-align: top;\n",
       "    }\n",
       "\n",
       "    .dataframe thead th {\n",
       "        text-align: right;\n",
       "    }\n",
       "</style>\n",
       "<table border=\"1\" class=\"dataframe\">\n",
       "  <thead>\n",
       "    <tr style=\"text-align: right;\">\n",
       "      <th></th>\n",
       "      <th>time</th>\n",
       "      <th>Fp1</th>\n",
       "      <th>AF7</th>\n",
       "      <th>AF3</th>\n",
       "      <th>F1</th>\n",
       "      <th>F3</th>\n",
       "      <th>F5</th>\n",
       "      <th>F7</th>\n",
       "      <th>FT7</th>\n",
       "      <th>FC5</th>\n",
       "      <th>...</th>\n",
       "      <th>CP4</th>\n",
       "      <th>CP2</th>\n",
       "      <th>P2</th>\n",
       "      <th>P4</th>\n",
       "      <th>P6</th>\n",
       "      <th>P8</th>\n",
       "      <th>P10</th>\n",
       "      <th>PO8</th>\n",
       "      <th>PO4</th>\n",
       "      <th>O2</th>\n",
       "    </tr>\n",
       "  </thead>\n",
       "  <tbody>\n",
       "    <tr>\n",
       "      <th>190</th>\n",
       "      <td>-16</td>\n",
       "      <td>-2.815968</td>\n",
       "      <td>-3.292211</td>\n",
       "      <td>-2.561198</td>\n",
       "      <td>-0.499298</td>\n",
       "      <td>-1.603406</td>\n",
       "      <td>-2.862755</td>\n",
       "      <td>-3.446867</td>\n",
       "      <td>-3.122255</td>\n",
       "      <td>-1.970187</td>\n",
       "      <td>...</td>\n",
       "      <td>2.414924</td>\n",
       "      <td>3.97988</td>\n",
       "      <td>3.518948</td>\n",
       "      <td>1.828487</td>\n",
       "      <td>1.060733</td>\n",
       "      <td>0.137979</td>\n",
       "      <td>-2.125682</td>\n",
       "      <td>0.201413</td>\n",
       "      <td>1.090028</td>\n",
       "      <td>-0.458825</td>\n",
       "    </tr>\n",
       "  </tbody>\n",
       "</table>\n",
       "<p>1 rows × 65 columns</p>\n",
       "</div>"
      ],
      "text/plain": [
       "     time       Fp1       AF7       AF3        F1        F3        F5  \\\n",
       "190   -16 -2.815968 -3.292211 -2.561198 -0.499298 -1.603406 -2.862755   \n",
       "\n",
       "           F7       FT7       FC5  ...       CP4      CP2        P2        P4  \\\n",
       "190 -3.446867 -3.122255 -1.970187  ...  2.414924  3.97988  3.518948  1.828487   \n",
       "\n",
       "           P6        P8       P10       PO8       PO4        O2  \n",
       "190  1.060733  0.137979 -2.125682  0.201413  1.090028 -0.458825  \n",
       "\n",
       "[1 rows x 65 columns]"
      ]
     },
     "metadata": {},
     "output_type": "display_data"
    },
    {
     "name": "stdout",
     "output_type": "stream",
     "text": [
      "negative\n"
     ]
    },
    {
     "data": {
      "text/plain": [
       "3.6930574105474894"
      ]
     },
     "metadata": {},
     "output_type": "display_data"
    },
    {
     "data": {
      "text/html": [
       "<div>\n",
       "<style scoped>\n",
       "    .dataframe tbody tr th:only-of-type {\n",
       "        vertical-align: middle;\n",
       "    }\n",
       "\n",
       "    .dataframe tbody tr th {\n",
       "        vertical-align: top;\n",
       "    }\n",
       "\n",
       "    .dataframe thead th {\n",
       "        text-align: right;\n",
       "    }\n",
       "</style>\n",
       "<table border=\"1\" class=\"dataframe\">\n",
       "  <thead>\n",
       "    <tr style=\"text-align: right;\">\n",
       "      <th></th>\n",
       "      <th>time</th>\n",
       "      <th>Fp1</th>\n",
       "      <th>AF7</th>\n",
       "      <th>AF3</th>\n",
       "      <th>F1</th>\n",
       "      <th>F3</th>\n",
       "      <th>F5</th>\n",
       "      <th>F7</th>\n",
       "      <th>FT7</th>\n",
       "      <th>FC5</th>\n",
       "      <th>...</th>\n",
       "      <th>CP4</th>\n",
       "      <th>CP2</th>\n",
       "      <th>P2</th>\n",
       "      <th>P4</th>\n",
       "      <th>P6</th>\n",
       "      <th>P8</th>\n",
       "      <th>P10</th>\n",
       "      <th>PO8</th>\n",
       "      <th>PO4</th>\n",
       "      <th>O2</th>\n",
       "    </tr>\n",
       "  </thead>\n",
       "  <tbody>\n",
       "    <tr>\n",
       "      <th>190</th>\n",
       "      <td>-16</td>\n",
       "      <td>-3.224827</td>\n",
       "      <td>-3.298305</td>\n",
       "      <td>-2.592931</td>\n",
       "      <td>-0.314752</td>\n",
       "      <td>-1.866572</td>\n",
       "      <td>-3.046006</td>\n",
       "      <td>-3.833465</td>\n",
       "      <td>-3.432199</td>\n",
       "      <td>-2.159696</td>\n",
       "      <td>...</td>\n",
       "      <td>2.664295</td>\n",
       "      <td>4.573487</td>\n",
       "      <td>3.785919</td>\n",
       "      <td>2.156945</td>\n",
       "      <td>1.159157</td>\n",
       "      <td>0.084518</td>\n",
       "      <td>-2.449544</td>\n",
       "      <td>0.426591</td>\n",
       "      <td>0.701942</td>\n",
       "      <td>-0.58647</td>\n",
       "    </tr>\n",
       "  </tbody>\n",
       "</table>\n",
       "<p>1 rows × 65 columns</p>\n",
       "</div>"
      ],
      "text/plain": [
       "     time       Fp1       AF7       AF3        F1        F3        F5  \\\n",
       "190   -16 -3.224827 -3.298305 -2.592931 -0.314752 -1.866572 -3.046006   \n",
       "\n",
       "           F7       FT7       FC5  ...       CP4       CP2        P2  \\\n",
       "190 -3.833465 -3.432199 -2.159696  ...  2.664295  4.573487  3.785919   \n",
       "\n",
       "           P4        P6        P8       P10       PO8       PO4       O2  \n",
       "190  2.156945  1.159157  0.084518 -2.449544  0.426591  0.701942 -0.58647  \n",
       "\n",
       "[1 rows x 65 columns]"
      ]
     },
     "metadata": {},
     "output_type": "display_data"
    },
    {
     "name": "stdout",
     "output_type": "stream",
     "text": [
      "positive\n"
     ]
    },
    {
     "data": {
      "text/plain": [
       "3.5285332743322373"
      ]
     },
     "metadata": {},
     "output_type": "display_data"
    },
    {
     "data": {
      "text/html": [
       "<div>\n",
       "<style scoped>\n",
       "    .dataframe tbody tr th:only-of-type {\n",
       "        vertical-align: middle;\n",
       "    }\n",
       "\n",
       "    .dataframe tbody tr th {\n",
       "        vertical-align: top;\n",
       "    }\n",
       "\n",
       "    .dataframe thead th {\n",
       "        text-align: right;\n",
       "    }\n",
       "</style>\n",
       "<table border=\"1\" class=\"dataframe\">\n",
       "  <thead>\n",
       "    <tr style=\"text-align: right;\">\n",
       "      <th></th>\n",
       "      <th>time</th>\n",
       "      <th>Fp1</th>\n",
       "      <th>AF7</th>\n",
       "      <th>AF3</th>\n",
       "      <th>F1</th>\n",
       "      <th>F3</th>\n",
       "      <th>F5</th>\n",
       "      <th>F7</th>\n",
       "      <th>FT7</th>\n",
       "      <th>FC5</th>\n",
       "      <th>...</th>\n",
       "      <th>CP4</th>\n",
       "      <th>CP2</th>\n",
       "      <th>P2</th>\n",
       "      <th>P4</th>\n",
       "      <th>P6</th>\n",
       "      <th>P8</th>\n",
       "      <th>P10</th>\n",
       "      <th>PO8</th>\n",
       "      <th>PO4</th>\n",
       "      <th>O2</th>\n",
       "    </tr>\n",
       "  </thead>\n",
       "  <tbody>\n",
       "    <tr>\n",
       "      <th>190</th>\n",
       "      <td>-16</td>\n",
       "      <td>-3.198762</td>\n",
       "      <td>-3.327078</td>\n",
       "      <td>-2.724256</td>\n",
       "      <td>-0.625897</td>\n",
       "      <td>-2.159204</td>\n",
       "      <td>-3.2228</td>\n",
       "      <td>-3.821786</td>\n",
       "      <td>-3.559749</td>\n",
       "      <td>-2.241106</td>\n",
       "      <td>...</td>\n",
       "      <td>2.614402</td>\n",
       "      <td>4.505273</td>\n",
       "      <td>3.884735</td>\n",
       "      <td>2.231675</td>\n",
       "      <td>1.32765</td>\n",
       "      <td>0.483139</td>\n",
       "      <td>-2.038437</td>\n",
       "      <td>0.875342</td>\n",
       "      <td>1.563142</td>\n",
       "      <td>-0.035034</td>\n",
       "    </tr>\n",
       "  </tbody>\n",
       "</table>\n",
       "<p>1 rows × 65 columns</p>\n",
       "</div>"
      ],
      "text/plain": [
       "     time       Fp1       AF7       AF3        F1        F3      F5        F7  \\\n",
       "190   -16 -3.198762 -3.327078 -2.724256 -0.625897 -2.159204 -3.2228 -3.821786   \n",
       "\n",
       "          FT7       FC5  ...       CP4       CP2        P2        P4       P6  \\\n",
       "190 -3.559749 -2.241106  ...  2.614402  4.505273  3.884735  2.231675  1.32765   \n",
       "\n",
       "           P8       P10       PO8       PO4        O2  \n",
       "190  0.483139 -2.038437  0.875342  1.563142 -0.035034  \n",
       "\n",
       "[1 rows x 65 columns]"
      ]
     },
     "metadata": {},
     "output_type": "display_data"
    },
    {
     "name": "stdout",
     "output_type": "stream",
     "text": [
      "Minima correct\n",
      "Baseline\n"
     ]
    },
    {
     "data": {
      "text/plain": [
       "-1.2655127134600803"
      ]
     },
     "metadata": {},
     "output_type": "display_data"
    },
    {
     "data": {
      "text/html": [
       "<div>\n",
       "<style scoped>\n",
       "    .dataframe tbody tr th:only-of-type {\n",
       "        vertical-align: middle;\n",
       "    }\n",
       "\n",
       "    .dataframe tbody tr th {\n",
       "        vertical-align: top;\n",
       "    }\n",
       "\n",
       "    .dataframe thead th {\n",
       "        text-align: right;\n",
       "    }\n",
       "</style>\n",
       "<table border=\"1\" class=\"dataframe\">\n",
       "  <thead>\n",
       "    <tr style=\"text-align: right;\">\n",
       "      <th></th>\n",
       "      <th>time</th>\n",
       "      <th>Fp1</th>\n",
       "      <th>AF7</th>\n",
       "      <th>AF3</th>\n",
       "      <th>F1</th>\n",
       "      <th>F3</th>\n",
       "      <th>F5</th>\n",
       "      <th>F7</th>\n",
       "      <th>FT7</th>\n",
       "      <th>FC5</th>\n",
       "      <th>...</th>\n",
       "      <th>CP4</th>\n",
       "      <th>CP2</th>\n",
       "      <th>P2</th>\n",
       "      <th>P4</th>\n",
       "      <th>P6</th>\n",
       "      <th>P8</th>\n",
       "      <th>P10</th>\n",
       "      <th>PO8</th>\n",
       "      <th>PO4</th>\n",
       "      <th>O2</th>\n",
       "    </tr>\n",
       "  </thead>\n",
       "  <tbody>\n",
       "    <tr>\n",
       "      <th>180</th>\n",
       "      <td>-94</td>\n",
       "      <td>-1.233309</td>\n",
       "      <td>-1.094158</td>\n",
       "      <td>-1.141027</td>\n",
       "      <td>-1.144822</td>\n",
       "      <td>-0.844082</td>\n",
       "      <td>-0.844656</td>\n",
       "      <td>-0.867736</td>\n",
       "      <td>-0.450258</td>\n",
       "      <td>-0.337954</td>\n",
       "      <td>...</td>\n",
       "      <td>0.691234</td>\n",
       "      <td>0.599032</td>\n",
       "      <td>1.219358</td>\n",
       "      <td>0.998187</td>\n",
       "      <td>0.883978</td>\n",
       "      <td>0.584943</td>\n",
       "      <td>-0.616487</td>\n",
       "      <td>0.767363</td>\n",
       "      <td>0.910683</td>\n",
       "      <td>0.331682</td>\n",
       "    </tr>\n",
       "  </tbody>\n",
       "</table>\n",
       "<p>1 rows × 65 columns</p>\n",
       "</div>"
      ],
      "text/plain": [
       "     time       Fp1       AF7       AF3        F1        F3        F5  \\\n",
       "180   -94 -1.233309 -1.094158 -1.141027 -1.144822 -0.844082 -0.844656   \n",
       "\n",
       "           F7       FT7       FC5  ...       CP4       CP2        P2  \\\n",
       "180 -0.867736 -0.450258 -0.337954  ...  0.691234  0.599032  1.219358   \n",
       "\n",
       "           P4        P6        P8       P10       PO8       PO4        O2  \n",
       "180  0.998187  0.883978  0.584943 -0.616487  0.767363  0.910683  0.331682  \n",
       "\n",
       "[1 rows x 65 columns]"
      ]
     },
     "metadata": {},
     "output_type": "display_data"
    },
    {
     "name": "stdout",
     "output_type": "stream",
     "text": [
      "negative\n"
     ]
    },
    {
     "data": {
      "text/plain": [
       "-1.5026235821471539"
      ]
     },
     "metadata": {},
     "output_type": "display_data"
    },
    {
     "data": {
      "text/html": [
       "<div>\n",
       "<style scoped>\n",
       "    .dataframe tbody tr th:only-of-type {\n",
       "        vertical-align: middle;\n",
       "    }\n",
       "\n",
       "    .dataframe tbody tr th {\n",
       "        vertical-align: top;\n",
       "    }\n",
       "\n",
       "    .dataframe thead th {\n",
       "        text-align: right;\n",
       "    }\n",
       "</style>\n",
       "<table border=\"1\" class=\"dataframe\">\n",
       "  <thead>\n",
       "    <tr style=\"text-align: right;\">\n",
       "      <th></th>\n",
       "      <th>time</th>\n",
       "      <th>Fp1</th>\n",
       "      <th>AF7</th>\n",
       "      <th>AF3</th>\n",
       "      <th>F1</th>\n",
       "      <th>F3</th>\n",
       "      <th>F5</th>\n",
       "      <th>F7</th>\n",
       "      <th>FT7</th>\n",
       "      <th>FC5</th>\n",
       "      <th>...</th>\n",
       "      <th>CP4</th>\n",
       "      <th>CP2</th>\n",
       "      <th>P2</th>\n",
       "      <th>P4</th>\n",
       "      <th>P6</th>\n",
       "      <th>P8</th>\n",
       "      <th>P10</th>\n",
       "      <th>PO8</th>\n",
       "      <th>PO4</th>\n",
       "      <th>O2</th>\n",
       "    </tr>\n",
       "  </thead>\n",
       "  <tbody>\n",
       "    <tr>\n",
       "      <th>181</th>\n",
       "      <td>-86</td>\n",
       "      <td>-1.519744</td>\n",
       "      <td>-1.546348</td>\n",
       "      <td>-1.502783</td>\n",
       "      <td>-1.492737</td>\n",
       "      <td>-1.153481</td>\n",
       "      <td>-1.069833</td>\n",
       "      <td>-1.249575</td>\n",
       "      <td>-0.772563</td>\n",
       "      <td>-0.685769</td>\n",
       "      <td>...</td>\n",
       "      <td>0.909303</td>\n",
       "      <td>0.991265</td>\n",
       "      <td>1.569973</td>\n",
       "      <td>1.389983</td>\n",
       "      <td>1.359899</td>\n",
       "      <td>1.028264</td>\n",
       "      <td>-0.120203</td>\n",
       "      <td>1.352025</td>\n",
       "      <td>1.242087</td>\n",
       "      <td>0.769231</td>\n",
       "    </tr>\n",
       "  </tbody>\n",
       "</table>\n",
       "<p>1 rows × 65 columns</p>\n",
       "</div>"
      ],
      "text/plain": [
       "     time       Fp1       AF7       AF3        F1        F3        F5  \\\n",
       "181   -86 -1.519744 -1.546348 -1.502783 -1.492737 -1.153481 -1.069833   \n",
       "\n",
       "           F7       FT7       FC5  ...       CP4       CP2        P2  \\\n",
       "181 -1.249575 -0.772563 -0.685769  ...  0.909303  0.991265  1.569973   \n",
       "\n",
       "           P4        P6        P8       P10       PO8       PO4        O2  \n",
       "181  1.389983  1.359899  1.028264 -0.120203  1.352025  1.242087  0.769231  \n",
       "\n",
       "[1 rows x 65 columns]"
      ]
     },
     "metadata": {},
     "output_type": "display_data"
    },
    {
     "name": "stdout",
     "output_type": "stream",
     "text": [
      "positive\n"
     ]
    },
    {
     "data": {
      "text/plain": [
       "-1.3758019813048799"
      ]
     },
     "metadata": {},
     "output_type": "display_data"
    },
    {
     "data": {
      "text/html": [
       "<div>\n",
       "<style scoped>\n",
       "    .dataframe tbody tr th:only-of-type {\n",
       "        vertical-align: middle;\n",
       "    }\n",
       "\n",
       "    .dataframe tbody tr th {\n",
       "        vertical-align: top;\n",
       "    }\n",
       "\n",
       "    .dataframe thead th {\n",
       "        text-align: right;\n",
       "    }\n",
       "</style>\n",
       "<table border=\"1\" class=\"dataframe\">\n",
       "  <thead>\n",
       "    <tr style=\"text-align: right;\">\n",
       "      <th></th>\n",
       "      <th>time</th>\n",
       "      <th>Fp1</th>\n",
       "      <th>AF7</th>\n",
       "      <th>AF3</th>\n",
       "      <th>F1</th>\n",
       "      <th>F3</th>\n",
       "      <th>F5</th>\n",
       "      <th>F7</th>\n",
       "      <th>FT7</th>\n",
       "      <th>FC5</th>\n",
       "      <th>...</th>\n",
       "      <th>CP4</th>\n",
       "      <th>CP2</th>\n",
       "      <th>P2</th>\n",
       "      <th>P4</th>\n",
       "      <th>P6</th>\n",
       "      <th>P8</th>\n",
       "      <th>P10</th>\n",
       "      <th>PO8</th>\n",
       "      <th>PO4</th>\n",
       "      <th>O2</th>\n",
       "    </tr>\n",
       "  </thead>\n",
       "  <tbody>\n",
       "    <tr>\n",
       "      <th>180</th>\n",
       "      <td>-94</td>\n",
       "      <td>-1.376421</td>\n",
       "      <td>-1.310117</td>\n",
       "      <td>-1.159388</td>\n",
       "      <td>-1.208298</td>\n",
       "      <td>-0.842878</td>\n",
       "      <td>-0.854567</td>\n",
       "      <td>-0.880033</td>\n",
       "      <td>-0.54377</td>\n",
       "      <td>-0.380011</td>\n",
       "      <td>...</td>\n",
       "      <td>0.792795</td>\n",
       "      <td>0.854388</td>\n",
       "      <td>1.423396</td>\n",
       "      <td>1.153812</td>\n",
       "      <td>0.98486</td>\n",
       "      <td>0.45881</td>\n",
       "      <td>-0.612275</td>\n",
       "      <td>0.850563</td>\n",
       "      <td>1.040617</td>\n",
       "      <td>0.55781</td>\n",
       "    </tr>\n",
       "  </tbody>\n",
       "</table>\n",
       "<p>1 rows × 65 columns</p>\n",
       "</div>"
      ],
      "text/plain": [
       "     time       Fp1       AF7       AF3        F1        F3        F5  \\\n",
       "180   -94 -1.376421 -1.310117 -1.159388 -1.208298 -0.842878 -0.854567   \n",
       "\n",
       "           F7      FT7       FC5  ...       CP4       CP2        P2        P4  \\\n",
       "180 -0.880033 -0.54377 -0.380011  ...  0.792795  0.854388  1.423396  1.153812   \n",
       "\n",
       "          P6       P8       P10       PO8       PO4       O2  \n",
       "180  0.98486  0.45881 -0.612275  0.850563  1.040617  0.55781  \n",
       "\n",
       "[1 rows x 65 columns]"
      ]
     },
     "metadata": {},
     "output_type": "display_data"
    },
    {
     "name": "stdout",
     "output_type": "stream",
     "text": [
      "means & std correct\n",
      "base\n"
     ]
    },
    {
     "data": {
      "text/plain": [
       "0.4569534384800971"
      ]
     },
     "metadata": {},
     "output_type": "display_data"
    },
    {
     "data": {
      "text/plain": [
       "0.7605324427559836"
      ]
     },
     "metadata": {},
     "output_type": "display_data"
    },
    {
     "name": "stdout",
     "output_type": "stream",
     "text": [
      "neg\n"
     ]
    },
    {
     "data": {
      "text/plain": [
       "1.094412148943327"
      ]
     },
     "metadata": {},
     "output_type": "display_data"
    },
    {
     "data": {
      "text/plain": [
       "0.77079857061158"
      ]
     },
     "metadata": {},
     "output_type": "display_data"
    },
    {
     "name": "stdout",
     "output_type": "stream",
     "text": [
      "pos\n"
     ]
    },
    {
     "data": {
      "text/plain": [
       "1.0066085064738546"
      ]
     },
     "metadata": {},
     "output_type": "display_data"
    },
    {
     "data": {
      "text/plain": [
       "0.742803905259982"
      ]
     },
     "metadata": {},
     "output_type": "display_data"
    }
   ],
   "source": [
    "print('Maxima incorrect')\n",
    "print('Baseline')\n",
    "\n",
    "ga_incong_base_df = pos_ga_incongruent_incorrect_base.to_data_frame()\n",
    "display(ga_incong_base_df[ 'FCz'].max())\n",
    "\n",
    "display(ga_incong_base_df.loc[ga_incong_base_df['FCz'] == ga_incong_base_df['FCz'].max()])\n",
    "\n",
    "print('negative')\n",
    "\n",
    "ga_incong_correct_neg_df = pos_ga_incongruent_incorrect_neg.to_data_frame()\n",
    "display(ga_incong_correct_neg_df[ 'FCz'].max())\n",
    "\n",
    "display(ga_incong_correct_neg_df.loc[ga_incong_correct_neg_df['FCz'] == ga_incong_correct_neg_df[ 'FCz'].max()])\n",
    "\n",
    "print('positive')\n",
    "\n",
    "ga_incong_correct_pos_df = pos_ga_incongruent_incorrect_pos.to_data_frame()\n",
    "display(ga_incong_correct_pos_df[ 'FCz'].max())\n",
    "\n",
    "display(ga_incong_correct_pos_df.loc[ga_incong_correct_pos_df['FCz'] == ga_incong_correct_pos_df[ 'FCz'].max()])\n",
    "\n",
    "print('Minima incorrect')\n",
    "print('Baseline')\n",
    "\n",
    "ga_incong_base_df = pos_ga_incongruent_incorrect_base.to_data_frame()\n",
    "display(ga_incong_base_df[ 'FCz'].min())\n",
    "\n",
    "display(ga_incong_base_df.loc[ga_incong_base_df['FCz'] == ga_incong_base_df['FCz'].min()])\n",
    "\n",
    "print('negative')\n",
    "\n",
    "ga_incong_neg_df = pos_ga_incongruent_incorrect_neg.to_data_frame()\n",
    "display(ga_incong_neg_df[ 'FCz'].min())\n",
    "\n",
    "display(ga_incong_neg_df.loc[ga_incong_neg_df['FCz'] == ga_incong_neg_df[ 'FCz'].min()])\n",
    "print('positive')\n",
    "\n",
    "ga_incong_pos_df = pos_ga_incongruent_incorrect_pos.to_data_frame()\n",
    "display(ga_incong_pos_df[ 'FCz'].min())\n",
    "\n",
    "display(ga_incong_pos_df.loc[ga_incong_pos_df['FCz'] == ga_incong_pos_df[ 'FCz'].min()])\n",
    "print('means & std incorrect')\n",
    "print('base')\n",
    "display(ga_incong_base_df[ 'FCz'].mean())\n",
    "display(ga_incong_base_df[ 'FCz'].std())\n",
    "\n",
    "print('neg')\n",
    "display(ga_incong_neg_df[ 'FCz'].mean())\n",
    "display(ga_incong_neg_df[ 'FCz'].std())\n",
    "\n",
    "print('pos')\n",
    "display(ga_incong_pos_df[ 'FCz'].mean())\n",
    "display(ga_incong_pos_df[ 'FCz'].std())\n",
    "print('Maxima correct')\n",
    "print('Baseline')\n",
    "\n",
    "ga_incong_base_df = pos_ga_incongruent_correct_base.to_data_frame()\n",
    "display(ga_incong_base_df[ 'FCz'].max())\n",
    "\n",
    "display(ga_incong_base_df.loc[ga_incong_base_df['FCz'] == ga_incong_base_df['FCz'].max()])\n",
    "\n",
    "print('negative')\n",
    "\n",
    "ga_incong_neg_df = pos_ga_incongruent_correct_neg.to_data_frame()\n",
    "display(ga_incong_neg_df[ 'FCz'].max())\n",
    "\n",
    "display(ga_incong_neg_df.loc[ga_incong_neg_df['FCz'] == ga_incong_neg_df[ 'FCz'].max()])\n",
    "\n",
    "print('positive')\n",
    "\n",
    "ga_incong_pos_df = pos_ga_incongruent_correct_pos.to_data_frame()\n",
    "display(ga_incong_pos_df[ 'FCz'].max())\n",
    "\n",
    "display(ga_incong_pos_df.loc[ga_incong_pos_df['FCz'] == ga_incong_pos_df[ 'FCz'].max()])\n",
    "\n",
    "print('Minima correct')\n",
    "print('Baseline')\n",
    "\n",
    "ga_incong_base_df = pos_ga_incongruent_correct_base.to_data_frame()\n",
    "display(ga_incong_base_df[ 'FCz'].min())\n",
    "\n",
    "display(ga_incong_base_df.loc[ga_incong_base_df['FCz'] == ga_incong_base_df['FCz'].min()])\n",
    "\n",
    "print('negative')\n",
    "\n",
    "ga_incong_neg_df = pos_ga_incongruent_correct_neg.to_data_frame()\n",
    "display(ga_incong_neg_df[ 'FCz'].min())\n",
    "\n",
    "display(ga_incong_neg_df.loc[ga_incong_neg_df['FCz'] == ga_incong_neg_df[ 'FCz'].min()])\n",
    "\n",
    "print('positive')\n",
    "\n",
    "ga_incong_pos_df = pos_ga_incongruent_correct_pos.to_data_frame()\n",
    "display(ga_incong_pos_df[ 'FCz'].min())\n",
    "\n",
    "display(ga_incong_pos_df.loc[ga_incong_pos_df['FCz'] == ga_incong_pos_df[ 'FCz'].min()])\n",
    "\n",
    "\n",
    "print('means & std correct')\n",
    "print('base')\n",
    "display(ga_incong_base_df[ 'FCz'].mean())\n",
    "display(ga_incong_base_df[ 'FCz'].std())\n",
    "\n",
    "print('neg')\n",
    "display(ga_incong_neg_df[ 'FCz'].mean())\n",
    "display(ga_incong_neg_df[ 'FCz'].std())\n",
    "\n",
    "print('pos')\n",
    "display(ga_incong_pos_df[ 'FCz'].mean())\n",
    "display(ga_incong_pos_df[ 'FCz'].std())\n",
    "\n"
   ]
  },
  {
   "cell_type": "code",
   "execution_count": null,
   "metadata": {},
   "outputs": [],
   "source": []
  }
 ],
 "metadata": {
  "kernelspec": {
   "display_name": "Python 3",
   "language": "python",
   "name": "python3"
  },
  "language_info": {
   "codemirror_mode": {
    "name": "ipython",
    "version": 3
   },
   "file_extension": ".py",
   "mimetype": "text/x-python",
   "name": "python",
   "nbconvert_exporter": "python",
   "pygments_lexer": "ipython3",
   "version": "3.7.6"
  }
 },
 "nbformat": 4,
 "nbformat_minor": 4
}
